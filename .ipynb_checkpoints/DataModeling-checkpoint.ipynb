{
 "cells": [
  {
   "cell_type": "code",
   "execution_count": 1,
   "id": "f72a6019",
   "metadata": {},
   "outputs": [],
   "source": [
    "import warnings\n",
    "warnings.filterwarnings(\"ignore\")"
   ]
  },
  {
   "cell_type": "code",
   "execution_count": 2,
   "id": "930152cf",
   "metadata": {},
   "outputs": [
    {
     "name": "stderr",
     "output_type": "stream",
     "text": [
      "2023-09-23 17:41:13.110702: W tensorflow/stream_executor/platform/default/dso_loader.cc:64] Could not load dynamic library 'libcudart.so.11.0'; dlerror: libcudart.so.11.0: cannot open shared object file: No such file or directory\n",
      "2023-09-23 17:41:13.110836: I tensorflow/stream_executor/cuda/cudart_stub.cc:29] Ignore above cudart dlerror if you do not have a GPU set up on your machine.\n"
     ]
    }
   ],
   "source": [
    "from pyspark.sql import SparkSession\n",
    "from pyspark.sql import functions\n",
    "import tensorflow as tf\n",
    "from tensorflow.keras.models import Sequential\n",
    "from tensorflow.keras.layers import Dense\n",
    "import matplotlib.pyplot as plt"
   ]
  },
  {
   "cell_type": "code",
   "execution_count": 3,
   "id": "0df1e981",
   "metadata": {},
   "outputs": [],
   "source": [
    "#spark = SparkSession.builder.appName(\"DataModeling\").getOrCreate()\n",
    "spark = SparkSession.builder.appName(\"DataModeling\").config(\"spark.driver.memory\", \"4g\").getOrCreate()"
   ]
  },
  {
   "cell_type": "code",
   "execution_count": 4,
   "id": "d2746ba7",
   "metadata": {},
   "outputs": [
    {
     "name": "stderr",
     "output_type": "stream",
     "text": [
      "                                                                                \r"
     ]
    }
   ],
   "source": [
    "# Read the Parquet file into a DataFrame\n",
    "df = spark.read.parquet(\"/user1/data/parquet/*.parquet\")"
   ]
  },
  {
   "cell_type": "code",
   "execution_count": 5,
   "id": "41b67820",
   "metadata": {},
   "outputs": [
    {
     "name": "stderr",
     "output_type": "stream",
     "text": [
      "                                                                                \r"
     ]
    },
    {
     "name": "stdout",
     "output_type": "stream",
     "text": [
      "+---------+-------------------+------------+-------------------------+-------------------+------------------+-------------------+------------------+\n",
      "|square_id|timestamp          |country_code|internet_traffic_activity|hourly_timestamp   |SMS_activity      |call_activity      |weekend_or_weekday|\n",
      "+---------+-------------------+------------+-------------------------+-------------------+------------------+-------------------+------------------+\n",
      "|1        |2013-10-31 23:00:00|39          |11.028366381681026       |2013-10-31 23:00:00|0.2986512597414538|0.2132127854455914 |weekday           |\n",
      "|1        |2013-10-31 23:10:00|39          |11.100963451409388       |2013-10-31 23:00:00|0.3983777976024016|0.32241464495433614|weekday           |\n",
      "+---------+-------------------+------------+-------------------------+-------------------+------------------+-------------------+------------------+\n",
      "only showing top 2 rows\n",
      "\n"
     ]
    }
   ],
   "source": [
    "df.show(2, truncate=False)"
   ]
  },
  {
   "cell_type": "code",
   "execution_count": 6,
   "id": "4bb2d771",
   "metadata": {},
   "outputs": [
    {
     "name": "stdout",
     "output_type": "stream",
     "text": [
      "root\n",
      " |-- square_id: string (nullable = true)\n",
      " |-- timestamp: timestamp (nullable = true)\n",
      " |-- country_code: integer (nullable = true)\n",
      " |-- internet_traffic_activity: double (nullable = true)\n",
      " |-- hourly_timestamp: string (nullable = true)\n",
      " |-- SMS_activity: double (nullable = true)\n",
      " |-- call_activity: double (nullable = true)\n",
      " |-- weekend_or_weekday: string (nullable = true)\n",
      "\n"
     ]
    }
   ],
   "source": [
    "df.printSchema()"
   ]
  },
  {
   "cell_type": "code",
   "execution_count": 11,
   "id": "8c300a90",
   "metadata": {},
   "outputs": [
    {
     "name": "stderr",
     "output_type": "stream",
     "text": [
      "                                                                                \r"
     ]
    },
    {
     "data": {
      "text/plain": [
       "7516761"
      ]
     },
     "execution_count": 11,
     "metadata": {},
     "output_type": "execute_result"
    }
   ],
   "source": [
    "df.count()"
   ]
  },
  {
   "cell_type": "code",
   "execution_count": 12,
   "id": "ef650868",
   "metadata": {},
   "outputs": [
    {
     "name": "stderr",
     "output_type": "stream",
     "text": [
      "[Stage 7:=================================================>         (5 + 1) / 6]\r"
     ]
    },
    {
     "name": "stdout",
     "output_type": "stream",
     "text": [
      "Count of distinct rows: 7516761\n"
     ]
    },
    {
     "name": "stderr",
     "output_type": "stream",
     "text": [
      "\r",
      "                                                                                \r"
     ]
    }
   ],
   "source": [
    "print('Count of distinct rows: {0}'.format(df.distinct().count())) #duplicates"
   ]
  },
  {
   "cell_type": "code",
   "execution_count": 8,
   "id": "633fca15",
   "metadata": {},
   "outputs": [
    {
     "name": "stderr",
     "output_type": "stream",
     "text": [
      "\r",
      "[Stage 11:>                                                         (0 + 2) / 2]\r"
     ]
    },
    {
     "name": "stdout",
     "output_type": "stream",
     "text": [
      "+------------+-------+\n",
      "|country_code|  count|\n",
      "+------------+-------+\n",
      "|          45|      1|\n",
      "|          40|      1|\n",
      "|         966|      2|\n",
      "|         421|      2|\n",
      "|         353|      3|\n",
      "|         385|      3|\n",
      "|          61|      4|\n",
      "|          31|      4|\n",
      "|         356|      5|\n",
      "|          90|      6|\n",
      "|         386|      7|\n",
      "|         351|      9|\n",
      "|          43|     14|\n",
      "|          32|     15|\n",
      "|         358|     21|\n",
      "|           0|     21|\n",
      "|         213|     23|\n",
      "|          47|     42|\n",
      "|          34|     68|\n",
      "|           1|     91|\n",
      "|         420|     93|\n",
      "|          48|     98|\n",
      "|          49|    151|\n",
      "|          46|    218|\n",
      "|           7|    496|\n",
      "|          86|   1054|\n",
      "|          44|   1197|\n",
      "|          33|   1298|\n",
      "|          41|   1353|\n",
      "|          39|7510461|\n",
      "+------------+-------+\n",
      "\n"
     ]
    },
    {
     "name": "stderr",
     "output_type": "stream",
     "text": [
      "\r",
      "                                                                                \r"
     ]
    }
   ],
   "source": [
    "df.groupby('country_code').count().sort('count').show(30)"
   ]
  },
  {
   "cell_type": "code",
   "execution_count": 9,
   "id": "98c74e2a",
   "metadata": {},
   "outputs": [
    {
     "name": "stderr",
     "output_type": "stream",
     "text": [
      "                                                                                \r"
     ]
    },
    {
     "name": "stdout",
     "output_type": "stream",
     "text": [
      "+-------+-------------------------+--------------------+--------------------+\n",
      "|summary|internet_traffic_activity|        SMS_activity|       call_activity|\n",
      "+-------+-------------------------+--------------------+--------------------+\n",
      "|  count|                  7516761|             7516761|             7516761|\n",
      "|   mean|        81.02824368179743|   7.151377454212734|    8.21545912479918|\n",
      "| stddev|       143.69671563945369|  14.738696897264143|  16.946580289458204|\n",
      "|    min|     4.792346910579604E-5|1.235047397115846...|4.662995399058662E-6|\n",
      "|    max|        7936.265379884158|   1211.443277333027|   532.5074148119132|\n",
      "+-------+-------------------------+--------------------+--------------------+\n",
      "\n"
     ]
    }
   ],
   "source": [
    "# numerical stat\n",
    "df.describe(['internet_traffic_activity', 'SMS_activity', 'call_activity']).show()"
   ]
  },
  {
   "cell_type": "code",
   "execution_count": 5,
   "id": "93ceef24",
   "metadata": {},
   "outputs": [],
   "source": [
    "from pyspark.sql.functions import col\n",
    "\n",
    "df = df.withColumn(\"square_id\", col(\"square_id\").cast(\"integer\"))"
   ]
  },
  {
   "cell_type": "code",
   "execution_count": 11,
   "id": "9d7ea3b8",
   "metadata": {},
   "outputs": [
    {
     "name": "stderr",
     "output_type": "stream",
     "text": [
      "                                                                                \r"
     ]
    },
    {
     "data": {
      "text/plain": [
       "[[1.0, 0.1415706480958958, 0.12647822181687138, 0.12565426847843997],\n",
       " [None, 1.0, 0.8789476193973431, 0.8444776822637831],\n",
       " [None, None, 1.0, 0.8929825876389413],\n",
       " [None, None, None, 1.0]]"
      ]
     },
     "execution_count": 11,
     "metadata": {},
     "output_type": "execute_result"
    }
   ],
   "source": [
    "# correlation\n",
    "features = ['square_id', 'internet_traffic_activity', 'SMS_activity', 'call_activity']\n",
    "n = len(features)\n",
    "\n",
    "corr = []\n",
    "\n",
    "for i in range(0, n):\n",
    "    temp = [None]*i\n",
    "    \n",
    "    for j in range(i, n):\n",
    "        temp.append(df.corr(features[i], features[j]))\n",
    "    corr.append(temp)\n",
    "    \n",
    "corr"
   ]
  },
  {
   "cell_type": "code",
   "execution_count": 6,
   "id": "30404494",
   "metadata": {},
   "outputs": [
    {
     "name": "stderr",
     "output_type": "stream",
     "text": [
      "                                                                                \r"
     ]
    },
    {
     "name": "stdout",
     "output_type": "stream",
     "text": [
      "+---------+-------------------+------------+-------------------------+-------------------+------------------+-------------------+------------------+-----------+-----------+\n",
      "|square_id|          timestamp|country_code|internet_traffic_activity|   hourly_timestamp|      SMS_activity|      call_activity|weekend_or_weekday|hour_of_day|time_of_day|\n",
      "+---------+-------------------+------------+-------------------------+-------------------+------------------+-------------------+------------------+-----------+-----------+\n",
      "|        1|2013-10-31 23:00:00|          39|       11.028366381681026|2013-10-31 23:00:00|0.2986512597414538| 0.2132127854455914|           weekday|         23|      night|\n",
      "|        1|2013-10-31 23:10:00|          39|       11.100963451409388|2013-10-31 23:00:00|0.3983777976024016|0.32241464495433614|           weekday|         23|      night|\n",
      "|        1|2013-10-31 23:20:00|          39|       10.892770602791096|2013-10-31 23:00:00|0.5015934573020482| 0.1887771729145041|           weekday|         23|      night|\n",
      "+---------+-------------------+------------+-------------------------+-------------------+------------------+-------------------+------------------+-----------+-----------+\n",
      "only showing top 3 rows\n",
      "\n"
     ]
    }
   ],
   "source": [
    "# transform timestamp into categorical values\n",
    "from pyspark.sql.functions import hour\n",
    "from pyspark.sql.functions import udf\n",
    "\n",
    "df = df.withColumn('hour_of_day', hour(df.timestamp))\n",
    "\n",
    "def categorize_hour(hour):\n",
    "    if 6 <= hour < 12:\n",
    "        return 'morning'\n",
    "    elif 12 <= hour < 15:\n",
    "        return 'lunch'\n",
    "    elif 15 <= hour < 18:\n",
    "        return 'afternoon'\n",
    "    elif 18 <= hour < 22:\n",
    "        return 'evening'\n",
    "    else:\n",
    "        return 'night'\n",
    "    \n",
    "# Apply the UDF to create a new column with categorical values\n",
    "categorize_hour_udf = udf(categorize_hour)\n",
    "df = df.withColumn('time_of_day', categorize_hour_udf(df.hour_of_day))\n",
    "\n",
    "# Show the transformed DataFrame\n",
    "df.show(3)"
   ]
  },
  {
   "cell_type": "code",
   "execution_count": 13,
   "id": "693d6096",
   "metadata": {
    "scrolled": true
   },
   "outputs": [
    {
     "name": "stderr",
     "output_type": "stream",
     "text": [
      "                                                                                \r"
     ]
    },
    {
     "data": {
      "image/png": "[encoded data removed]",
      "text/plain": [
       "<Figure size 432x288 with 1 Axes>"
      ]
     },
     "metadata": {
      "needs_background": "light"
     },
     "output_type": "display_data"
    }
   ],
   "source": [
    "# Group the data by time_of_day and aggregate the average of each activity\n",
    "activity_by_time_of_day = df.groupBy('time_of_day').agg({'SMS_activity': 'avg', 'call_activity': 'avg', 'internet_traffic_activity': 'avg'})\n",
    "\n",
    "# Convert the DataFrame to a Pandas DataFrame for plotting\n",
    "activity_by_time_of_day_pd = activity_by_time_of_day.toPandas()\n",
    "\n",
    "# Plot the average volume of each activity per time_of_day\n",
    "activity_by_time_of_day_pd.plot(kind='bar', x='time_of_day', y=['avg(SMS_activity)', 'avg(call_activity)', 'avg(internet_traffic_activity)'])\n",
    "plt.title('Avg volume of SMS, call and internet activity across the day')\n",
    "plt.xlabel('Time of Day')\n",
    "plt.ylabel('Average Volume')\n",
    "plt.show()"
   ]
  },
  {
   "cell_type": "code",
   "execution_count": 7,
   "id": "e59ade3c",
   "metadata": {},
   "outputs": [
    {
     "name": "stderr",
     "output_type": "stream",
     "text": [
      "                                                                                \r"
     ]
    },
    {
     "name": "stdout",
     "output_type": "stream",
     "text": [
      "+---------+-------------------+------------+-------------------------+-------------------+------------------+-------------------+------------------+-----------+-----------+-----------------------+\n",
      "|square_id|          timestamp|country_code|internet_traffic_activity|   hourly_timestamp|      SMS_activity|      call_activity|weekend_or_weekday|hour_of_day|time_of_day|weekend_weekday_encoded|\n",
      "+---------+-------------------+------------+-------------------------+-------------------+------------------+-------------------+------------------+-----------+-----------+-----------------------+\n",
      "|        1|2013-10-31 23:00:00|          39|       11.028366381681026|2013-10-31 23:00:00|0.2986512597414538| 0.2132127854455914|           weekday|         23|      night|                      0|\n",
      "|        1|2013-10-31 23:10:00|          39|       11.100963451409388|2013-10-31 23:00:00|0.3983777976024016|0.32241464495433614|           weekday|         23|      night|                      0|\n",
      "|        1|2013-10-31 23:20:00|          39|       10.892770602791096|2013-10-31 23:00:00|0.5015934573020482| 0.1887771729145041|           weekday|         23|      night|                      0|\n",
      "+---------+-------------------+------------+-------------------------+-------------------+------------------+-------------------+------------------+-----------+-----------+-----------------------+\n",
      "only showing top 3 rows\n",
      "\n"
     ]
    }
   ],
   "source": [
    "#preparing for modeling (cat values, scaling, splitting)\n",
    "# handle categorical values\n",
    "\n",
    "df = df.withColumn('weekend_weekday_encoded',functions.when(df['weekend_or_weekday']=='weekday',0).otherwise(1))\n",
    "df.show(3)"
   ]
  },
  {
   "cell_type": "code",
   "execution_count": 8,
   "id": "788ee863",
   "metadata": {},
   "outputs": [],
   "source": [
    "from pyspark.sql.functions import when\n",
    "df = df.withColumn('time_of_day_encoded', when(df['time_of_day'] == 'morning', 2)\n",
    "                                          .when(df['time_of_day'] == 'lunch', 3)\n",
    "                                          .when(df['time_of_day'] == 'afternoon', 4)\n",
    "                                          .when(df['time_of_day'] == 'evening', 5)\n",
    "                                          .when(df['time_of_day'] == 'night', 6))"
   ]
  },
  {
   "cell_type": "code",
   "execution_count": 14,
   "id": "7f635171",
   "metadata": {},
   "outputs": [
    {
     "name": "stdout",
     "output_type": "stream",
     "text": [
      "root\n",
      " |-- square_id: integer (nullable = true)\n",
      " |-- timestamp: timestamp (nullable = true)\n",
      " |-- country_code: integer (nullable = true)\n",
      " |-- internet_traffic_activity: double (nullable = true)\n",
      " |-- hourly_timestamp: string (nullable = true)\n",
      " |-- SMS_activity: double (nullable = true)\n",
      " |-- call_activity: double (nullable = true)\n",
      " |-- weekend_or_weekday: string (nullable = true)\n",
      " |-- hour_of_day: integer (nullable = true)\n",
      " |-- time_of_day: string (nullable = true)\n",
      " |-- weekend_weekday_encoded: integer (nullable = false)\n",
      " |-- time_of_day_encoded: integer (nullable = true)\n",
      "\n"
     ]
    }
   ],
   "source": [
    "df.printSchema()"
   ]
  },
  {
   "cell_type": "code",
   "execution_count": 9,
   "id": "5fc65cc9",
   "metadata": {},
   "outputs": [],
   "source": [
    "# selecting features for the model\n",
    "data = df.select('square_id', 'country_code', 'internet_traffic_activity', 'SMS_activity', \n",
    "                 'call_activity', 'time_of_day_encoded', 'weekend_weekday_encoded')"
   ]
  },
  {
   "cell_type": "code",
   "execution_count": 16,
   "id": "15d23f17",
   "metadata": {},
   "outputs": [
    {
     "name": "stdout",
     "output_type": "stream",
     "text": [
      "root\n",
      " |-- square_id: integer (nullable = true)\n",
      " |-- country_code: integer (nullable = true)\n",
      " |-- internet_traffic_activity: double (nullable = true)\n",
      " |-- SMS_activity: double (nullable = true)\n",
      " |-- call_activity: double (nullable = true)\n",
      " |-- time_of_day_encoded: integer (nullable = true)\n",
      " |-- weekend_weekday_encoded: integer (nullable = false)\n",
      "\n"
     ]
    }
   ],
   "source": [
    "data.printSchema()"
   ]
  },
  {
   "cell_type": "code",
   "execution_count": 46,
   "id": "fc93a759",
   "metadata": {},
   "outputs": [
    {
     "name": "stderr",
     "output_type": "stream",
     "text": [
      "                                                                                \r"
     ]
    },
    {
     "ename": "Py4JJavaError",
     "evalue": "An error occurred while calling o395.collectToPython.\n: java.lang.OutOfMemoryError: GC overhead limit exceeded\n",
     "output_type": "error",
     "traceback": [
      "\u001b[0;31m---------------------------------------------------------------------------\u001b[0m",
      "\u001b[0;31mPy4JJavaError\u001b[0m                             Traceback (most recent call last)",
      "\u001b[0;32m/tmp/ipykernel_9176/3160708900.py\u001b[0m in \u001b[0;36m<module>\u001b[0;34m\u001b[0m\n\u001b[1;32m      1\u001b[0m \u001b[0;32mimport\u001b[0m \u001b[0mnumpy\u001b[0m \u001b[0;32mas\u001b[0m \u001b[0mnp\u001b[0m\u001b[0;34m\u001b[0m\u001b[0;34m\u001b[0m\u001b[0m\n\u001b[0;32m----> 2\u001b[0;31m \u001b[0mdata_array\u001b[0m \u001b[0;34m=\u001b[0m \u001b[0mnp\u001b[0m\u001b[0;34m.\u001b[0m\u001b[0marray\u001b[0m\u001b[0;34m(\u001b[0m\u001b[0mdata\u001b[0m\u001b[0;34m.\u001b[0m\u001b[0mcollect\u001b[0m\u001b[0;34m(\u001b[0m\u001b[0;34m)\u001b[0m\u001b[0;34m)\u001b[0m\u001b[0;34m\u001b[0m\u001b[0;34m\u001b[0m\u001b[0m\n\u001b[0m",
      "\u001b[0;32m/usr/local/spark/python/pyspark/sql/dataframe.py\u001b[0m in \u001b[0;36mcollect\u001b[0;34m(self)\u001b[0m\n\u001b[1;32m    691\u001b[0m         \"\"\"\n\u001b[1;32m    692\u001b[0m         \u001b[0;32mwith\u001b[0m \u001b[0mSCCallSiteSync\u001b[0m\u001b[0;34m(\u001b[0m\u001b[0mself\u001b[0m\u001b[0;34m.\u001b[0m\u001b[0m_sc\u001b[0m\u001b[0;34m)\u001b[0m \u001b[0;32mas\u001b[0m \u001b[0mcss\u001b[0m\u001b[0;34m:\u001b[0m\u001b[0;34m\u001b[0m\u001b[0;34m\u001b[0m\u001b[0m\n\u001b[0;32m--> 693\u001b[0;31m             \u001b[0msock_info\u001b[0m \u001b[0;34m=\u001b[0m \u001b[0mself\u001b[0m\u001b[0;34m.\u001b[0m\u001b[0m_jdf\u001b[0m\u001b[0;34m.\u001b[0m\u001b[0mcollectToPython\u001b[0m\u001b[0;34m(\u001b[0m\u001b[0;34m)\u001b[0m\u001b[0;34m\u001b[0m\u001b[0;34m\u001b[0m\u001b[0m\n\u001b[0m\u001b[1;32m    694\u001b[0m         \u001b[0;32mreturn\u001b[0m \u001b[0mlist\u001b[0m\u001b[0;34m(\u001b[0m\u001b[0m_load_from_socket\u001b[0m\u001b[0;34m(\u001b[0m\u001b[0msock_info\u001b[0m\u001b[0;34m,\u001b[0m \u001b[0mBatchedSerializer\u001b[0m\u001b[0;34m(\u001b[0m\u001b[0mPickleSerializer\u001b[0m\u001b[0;34m(\u001b[0m\u001b[0;34m)\u001b[0m\u001b[0;34m)\u001b[0m\u001b[0;34m)\u001b[0m\u001b[0;34m)\u001b[0m\u001b[0;34m\u001b[0m\u001b[0;34m\u001b[0m\u001b[0m\n\u001b[1;32m    695\u001b[0m \u001b[0;34m\u001b[0m\u001b[0m\n",
      "\u001b[0;32m~/.local/lib/python3.10/site-packages/py4j/java_gateway.py\u001b[0m in \u001b[0;36m__call__\u001b[0;34m(self, *args)\u001b[0m\n\u001b[1;32m   1320\u001b[0m \u001b[0;34m\u001b[0m\u001b[0m\n\u001b[1;32m   1321\u001b[0m         \u001b[0manswer\u001b[0m \u001b[0;34m=\u001b[0m \u001b[0mself\u001b[0m\u001b[0;34m.\u001b[0m\u001b[0mgateway_client\u001b[0m\u001b[0;34m.\u001b[0m\u001b[0msend_command\u001b[0m\u001b[0;34m(\u001b[0m\u001b[0mcommand\u001b[0m\u001b[0;34m)\u001b[0m\u001b[0;34m\u001b[0m\u001b[0;34m\u001b[0m\u001b[0m\n\u001b[0;32m-> 1322\u001b[0;31m         return_value = get_return_value(\n\u001b[0m\u001b[1;32m   1323\u001b[0m             answer, self.gateway_client, self.target_id, self.name)\n\u001b[1;32m   1324\u001b[0m \u001b[0;34m\u001b[0m\u001b[0m\n",
      "\u001b[0;32m/usr/local/spark/python/pyspark/sql/utils.py\u001b[0m in \u001b[0;36mdeco\u001b[0;34m(*a, **kw)\u001b[0m\n\u001b[1;32m    109\u001b[0m     \u001b[0;32mdef\u001b[0m \u001b[0mdeco\u001b[0m\u001b[0;34m(\u001b[0m\u001b[0;34m*\u001b[0m\u001b[0ma\u001b[0m\u001b[0;34m,\u001b[0m \u001b[0;34m**\u001b[0m\u001b[0mkw\u001b[0m\u001b[0;34m)\u001b[0m\u001b[0;34m:\u001b[0m\u001b[0;34m\u001b[0m\u001b[0;34m\u001b[0m\u001b[0m\n\u001b[1;32m    110\u001b[0m         \u001b[0;32mtry\u001b[0m\u001b[0;34m:\u001b[0m\u001b[0;34m\u001b[0m\u001b[0;34m\u001b[0m\u001b[0m\n\u001b[0;32m--> 111\u001b[0;31m             \u001b[0;32mreturn\u001b[0m \u001b[0mf\u001b[0m\u001b[0;34m(\u001b[0m\u001b[0;34m*\u001b[0m\u001b[0ma\u001b[0m\u001b[0;34m,\u001b[0m \u001b[0;34m**\u001b[0m\u001b[0mkw\u001b[0m\u001b[0;34m)\u001b[0m\u001b[0;34m\u001b[0m\u001b[0;34m\u001b[0m\u001b[0m\n\u001b[0m\u001b[1;32m    112\u001b[0m         \u001b[0;32mexcept\u001b[0m \u001b[0mpy4j\u001b[0m\u001b[0;34m.\u001b[0m\u001b[0mprotocol\u001b[0m\u001b[0;34m.\u001b[0m\u001b[0mPy4JJavaError\u001b[0m \u001b[0;32mas\u001b[0m \u001b[0me\u001b[0m\u001b[0;34m:\u001b[0m\u001b[0;34m\u001b[0m\u001b[0;34m\u001b[0m\u001b[0m\n\u001b[1;32m    113\u001b[0m             \u001b[0mconverted\u001b[0m \u001b[0;34m=\u001b[0m \u001b[0mconvert_exception\u001b[0m\u001b[0;34m(\u001b[0m\u001b[0me\u001b[0m\u001b[0;34m.\u001b[0m\u001b[0mjava_exception\u001b[0m\u001b[0;34m)\u001b[0m\u001b[0;34m\u001b[0m\u001b[0;34m\u001b[0m\u001b[0m\n",
      "\u001b[0;32m~/.local/lib/python3.10/site-packages/py4j/protocol.py\u001b[0m in \u001b[0;36mget_return_value\u001b[0;34m(answer, gateway_client, target_id, name)\u001b[0m\n\u001b[1;32m    324\u001b[0m             \u001b[0mvalue\u001b[0m \u001b[0;34m=\u001b[0m \u001b[0mOUTPUT_CONVERTER\u001b[0m\u001b[0;34m[\u001b[0m\u001b[0mtype\u001b[0m\u001b[0;34m]\u001b[0m\u001b[0;34m(\u001b[0m\u001b[0manswer\u001b[0m\u001b[0;34m[\u001b[0m\u001b[0;36m2\u001b[0m\u001b[0;34m:\u001b[0m\u001b[0;34m]\u001b[0m\u001b[0;34m,\u001b[0m \u001b[0mgateway_client\u001b[0m\u001b[0;34m)\u001b[0m\u001b[0;34m\u001b[0m\u001b[0;34m\u001b[0m\u001b[0m\n\u001b[1;32m    325\u001b[0m             \u001b[0;32mif\u001b[0m \u001b[0manswer\u001b[0m\u001b[0;34m[\u001b[0m\u001b[0;36m1\u001b[0m\u001b[0;34m]\u001b[0m \u001b[0;34m==\u001b[0m \u001b[0mREFERENCE_TYPE\u001b[0m\u001b[0;34m:\u001b[0m\u001b[0;34m\u001b[0m\u001b[0;34m\u001b[0m\u001b[0m\n\u001b[0;32m--> 326\u001b[0;31m                 raise Py4JJavaError(\n\u001b[0m\u001b[1;32m    327\u001b[0m                     \u001b[0;34m\"An error occurred while calling {0}{1}{2}.\\n\"\u001b[0m\u001b[0;34m.\u001b[0m\u001b[0;34m\u001b[0m\u001b[0;34m\u001b[0m\u001b[0m\n\u001b[1;32m    328\u001b[0m                     format(target_id, \".\", name), value)\n",
      "\u001b[0;31mPy4JJavaError\u001b[0m: An error occurred while calling o395.collectToPython.\n: java.lang.OutOfMemoryError: GC overhead limit exceeded\n"
     ]
    }
   ],
   "source": [
    "import numpy as np\n",
    "data_array = np.array(data.collect())"
   ]
  },
  {
   "cell_type": "code",
   "execution_count": 10,
   "id": "127062dc",
   "metadata": {},
   "outputs": [
    {
     "name": "stdout",
     "output_type": "stream",
     "text": [
      "root\n",
      " |-- square_id: integer (nullable = true)\n",
      " |-- country_code: integer (nullable = true)\n",
      " |-- internet_traffic_activity: float (nullable = true)\n",
      " |-- SMS_activity: float (nullable = true)\n",
      " |-- call_activity: float (nullable = true)\n",
      " |-- time_of_day_encoded: integer (nullable = true)\n",
      " |-- weekend_weekday_encoded: integer (nullable = false)\n",
      "\n"
     ]
    }
   ],
   "source": [
    "#data is too big so we downcast double to float and then take a sample\n",
    "downcasted_df = data.select([col(c).cast(\"float\") if t == \"double\" else col(c) for c, t in data.dtypes])\n",
    "downcasted_df.printSchema()"
   ]
  },
  {
   "cell_type": "code",
   "execution_count": 18,
   "id": "8f405414",
   "metadata": {},
   "outputs": [
    {
     "name": "stderr",
     "output_type": "stream",
     "text": [
      "2023-09-23 11:33:34,396 WARN memory.MemoryStore: Not enough space to cache rdd_27_1 in memory! (computed 26.6 MiB so far)\n",
      "2023-09-23 11:33:34,417 WARN storage.BlockManager: Persisting block rdd_27_1 to disk instead.\n",
      "                                                                                \r"
     ]
    }
   ],
   "source": [
    "data.cache()\n",
    "nrows = data.count() # force caching"
   ]
  },
  {
   "cell_type": "code",
   "execution_count": 19,
   "id": "f1ca03f7",
   "metadata": {},
   "outputs": [
    {
     "name": "stderr",
     "output_type": "stream",
     "text": [
      "                                                                                \r"
     ]
    }
   ],
   "source": [
    "downcasted_df.cache()\n",
    "nrows2 = downcasted_df.count()"
   ]
  },
  {
   "cell_type": "code",
   "execution_count": 20,
   "id": "3e403f21",
   "metadata": {},
   "outputs": [
    {
     "name": "stdout",
     "output_type": "stream",
     "text": [
      "The estimated memory usage of the DataFrame with double is 287156640 bytes.\n",
      "The estimated memory usage of the DataFrame with float is 287156736 bytes.\n"
     ]
    }
   ],
   "source": [
    "size_double = spark._jvm.org.apache.spark.util.SizeEstimator.estimate(data._jdf)\n",
    "size_float = spark._jvm.org.apache.spark.util.SizeEstimator.estimate(downcasted_df._jdf)\n",
    "\n",
    "print(f\"The estimated memory usage of the DataFrame with double is {size_double} bytes.\")\n",
    "print(f\"The estimated memory usage of the DataFrame with float is {size_float} bytes.\")"
   ]
  },
  {
   "cell_type": "code",
   "execution_count": 11,
   "id": "3ea8b0b0",
   "metadata": {},
   "outputs": [],
   "source": [
    "sample = downcasted_df.sample(fraction=0.3, seed=42)"
   ]
  },
  {
   "cell_type": "code",
   "execution_count": 22,
   "id": "d936bbee",
   "metadata": {},
   "outputs": [
    {
     "name": "stderr",
     "output_type": "stream",
     "text": [
      "                                                                                \r"
     ]
    }
   ],
   "source": [
    "sample.cache()\n",
    "nrows2 = sample.count()"
   ]
  },
  {
   "cell_type": "code",
   "execution_count": 23,
   "id": "5f0f1de5",
   "metadata": {},
   "outputs": [
    {
     "name": "stdout",
     "output_type": "stream",
     "text": [
      "The estimated memory usage of the sample is 318463776 bytes.\n"
     ]
    }
   ],
   "source": [
    "size = spark._jvm.org.apache.spark.util.SizeEstimator.estimate(sample._jdf)\n",
    "print(f\"The estimated memory usage of the sample is {size} bytes.\")"
   ]
  },
  {
   "cell_type": "code",
   "execution_count": 12,
   "id": "04725c38",
   "metadata": {},
   "outputs": [
    {
     "name": "stderr",
     "output_type": "stream",
     "text": [
      "                                                                                \r"
     ]
    }
   ],
   "source": [
    "# let's try again\n",
    "import numpy as np\n",
    "data_array = np.array(sample.collect())"
   ]
  },
  {
   "cell_type": "code",
   "execution_count": 13,
   "id": "4c0e5103",
   "metadata": {},
   "outputs": [
    {
     "data": {
      "text/plain": [
       "array([[1.00000000e+00, 3.90000000e+01, 8.62242413e+00, ...,\n",
       "        8.07383507e-02, 6.00000000e+00, 0.00000000e+00],\n",
       "       [1.00000000e+00, 3.90000000e+01, 8.51417828e+00, ...,\n",
       "        5.63882403e-02, 6.00000000e+00, 1.00000000e+00],\n",
       "       [1.00000000e+00, 3.90000000e+01, 7.30988455e+00, ...,\n",
       "        1.40076950e-01, 2.00000000e+00, 0.00000000e+00],\n",
       "       ...,\n",
       "       [9.99900000e+03, 3.90000000e+01, 3.17284851e+01, ...,\n",
       "        6.48856580e-01, 5.00000000e+00, 0.00000000e+00],\n",
       "       [9.99900000e+03, 3.90000000e+01, 1.90380726e+01, ...,\n",
       "        5.18055975e-01, 6.00000000e+00, 0.00000000e+00],\n",
       "       [9.99900000e+03, 3.90000000e+01, 1.56236925e+01, ...,\n",
       "        3.58686596e-01, 6.00000000e+00, 0.00000000e+00]])"
      ]
     },
     "execution_count": 13,
     "metadata": {},
     "output_type": "execute_result"
    }
   ],
   "source": [
    "data_array"
   ]
  },
  {
   "cell_type": "code",
   "execution_count": 27,
   "id": "4864553d",
   "metadata": {},
   "outputs": [
    {
     "data": {
      "text/plain": [
       "(2256837, 7)"
      ]
     },
     "execution_count": 27,
     "metadata": {},
     "output_type": "execute_result"
    }
   ],
   "source": [
    "data_array.shape"
   ]
  },
  {
   "cell_type": "code",
   "execution_count": 28,
   "id": "1093dc8d",
   "metadata": {},
   "outputs": [
    {
     "data": {
      "text/plain": [
       "array([ 1.        , 39.        ,  8.62242413,  0.9022494 ,  0.08073835,\n",
       "        6.        ,  0.        ])"
      ]
     },
     "execution_count": 28,
     "metadata": {},
     "output_type": "execute_result"
    }
   ],
   "source": [
    "data_array[0]"
   ]
  },
  {
   "cell_type": "code",
   "execution_count": 19,
   "id": "5f30a709",
   "metadata": {},
   "outputs": [],
   "source": [
    "# normalization or scaling"
   ]
  },
  {
   "cell_type": "code",
   "execution_count": 20,
   "id": "1bca607b",
   "metadata": {},
   "outputs": [
    {
     "name": "stderr",
     "output_type": "stream",
     "text": [
      "                                                                                \r"
     ]
    }
   ],
   "source": [
    "internet = df.select(['internet_traffic_activity']).toPandas()"
   ]
  },
  {
   "cell_type": "code",
   "execution_count": 22,
   "id": "6f7ba9f7",
   "metadata": {},
   "outputs": [
    {
     "data": {
      "image/png": "[encoded data removed]",
      "text/plain": [
       "<Figure size 432x288 with 1 Axes>"
      ]
     },
     "metadata": {
      "needs_background": "light"
     },
     "output_type": "display_data"
    }
   ],
   "source": [
    "import seaborn as sns\n",
    "sns.histplot(internet['internet_traffic_activity']);"
   ]
  },
  {
   "cell_type": "code",
   "execution_count": 23,
   "id": "e6e4f09d",
   "metadata": {},
   "outputs": [
    {
     "name": "stderr",
     "output_type": "stream",
     "text": [
      "\r",
      "[Stage 20:>                                                         (0 + 2) / 2]\r"
     ]
    },
    {
     "name": "stdout",
     "output_type": "stream",
     "text": [
      "The skewness of the 'SMS_activity' column is: 7.866375062955847\n"
     ]
    },
    {
     "name": "stderr",
     "output_type": "stream",
     "text": [
      "\r",
      "                                                                                \r"
     ]
    }
   ],
   "source": [
    "from pyspark.sql.functions import skewness\n",
    "\n",
    "skewness_value = df.agg(skewness('SMS_activity')).collect()[0][0]\n",
    "print(f\"The skewness of the 'SMS_activity' column is: {skewness_value}\")"
   ]
  },
  {
   "cell_type": "code",
   "execution_count": 24,
   "id": "2adc842f",
   "metadata": {
    "scrolled": true
   },
   "outputs": [
    {
     "name": "stderr",
     "output_type": "stream",
     "text": [
      "\r",
      "[Stage 23:>                                                         (0 + 2) / 2]\r"
     ]
    },
    {
     "name": "stdout",
     "output_type": "stream",
     "text": [
      "The skewness of the 'call_activity' column is: 6.846711937178775\n"
     ]
    },
    {
     "name": "stderr",
     "output_type": "stream",
     "text": [
      "\r",
      "                                                                                \r"
     ]
    }
   ],
   "source": [
    "skewness_value = df.agg(skewness('call_activity')).collect()[0][0]\n",
    "print(f\"The skewness of the 'call_activity' column is: {skewness_value}\")"
   ]
  },
  {
   "cell_type": "code",
   "execution_count": 14,
   "id": "154a8bfb",
   "metadata": {},
   "outputs": [],
   "source": [
    "def normalize(X):\n",
    "    x_mean = X.mean(axis=0)\n",
    "    x_std = X.std(axis=0)\n",
    "    X = (X - X.mean(axis=0))/X.std(axis=0)\n",
    "    return X"
   ]
  },
  {
   "cell_type": "code",
   "execution_count": 15,
   "id": "1c553b97",
   "metadata": {},
   "outputs": [
    {
     "name": "stdout",
     "output_type": "stream",
     "text": [
      "[[-1.75842313 -0.00632533 -0.50347422 ... -0.478809    1.58772094\n",
      "  -0.25927374]\n",
      " [-1.75842313 -0.00632533 -0.50422707 ... -0.48024164  1.58772094\n",
      "   3.8569274 ]\n",
      " [-1.75842313 -0.00632533 -0.51260291 ... -0.47531779 -1.16708948\n",
      "  -0.25927374]\n",
      " ...\n",
      " [ 1.72699825 -0.00632533 -0.34277202 ... -0.4453836   0.89901834\n",
      "  -0.25927374]\n",
      " [ 1.72699825 -0.00632533 -0.43103359 ... -0.45307929  1.58772094\n",
      "  -0.25927374]\n",
      " [ 1.72699825 -0.00632533 -0.45478054 ... -0.46245583  1.58772094\n",
      "  -0.25927374]]\n"
     ]
    }
   ],
   "source": [
    "X_train = normalize(data_array)\n",
    "print(X_train)"
   ]
  },
  {
   "cell_type": "code",
   "execution_count": 17,
   "id": "e5b44e95",
   "metadata": {},
   "outputs": [
    {
     "data": {
      "text/plain": [
       "(2256837, 7)"
      ]
     },
     "execution_count": 17,
     "metadata": {},
     "output_type": "execute_result"
    }
   ],
   "source": [
    "X_train.shape"
   ]
  },
  {
   "cell_type": "code",
   "execution_count": null,
   "id": "15300fed",
   "metadata": {},
   "outputs": [
    {
     "name": "stdout",
     "output_type": "stream",
     "text": [
      "Epoch 1/10\n",
      "  198/70527 [..............................] - ETA: 27:18 - loss: 0.8419"
     ]
    }
   ],
   "source": [
    "# Build the autoencoder model\n",
    "input_dim = X_train.shape[1]\n",
    "encoding_dim = 32\n",
    "\n",
    "autoencoder = Sequential([\n",
    "    Dense(encoding_dim, activation='relu', input_shape=(input_dim,)),\n",
    "    Dense(input_dim, activation='sigmoid')\n",
    "])\n",
    "\n",
    "\n",
    "early_stopping = tf.keras.callbacks.EarlyStopping(monitor=\"loss\", patience=2, mode=\"min\")\n",
    "\n",
    "# Compile and train the autoencoder model\n",
    "autoencoder.compile(optimizer='adam', loss='mean_squared_error')\n",
    "autoencoder.fit(X_train, X_train, epochs=10, batch_size=32, callbacks=[early_stopping])"
   ]
  },
  {
   "cell_type": "code",
   "execution_count": null,
   "id": "b2f20f46",
   "metadata": {},
   "outputs": [],
   "source": [
    "# Detect anomalies using the trained autoencoder\n",
    "reconstructed_data = autoencoder.predict(X_train)\n",
    "mse = tf.keras.losses.mean_squared_error(X_train, reconstructed_data)\n",
    "anomaly_threshold = mse.mean() + mse.std() * 2  # Adjust the threshold as per your requirements\n",
    "\n",
    "anomalies = X_train[mse > anomaly_threshold]"
   ]
  },
  {
   "cell_type": "code",
   "execution_count": null,
   "id": "6d7ec97c",
   "metadata": {},
   "outputs": [],
   "source": []
  },
  {
   "cell_type": "code",
   "execution_count": null,
   "id": "2dfd5e0e",
   "metadata": {},
   "outputs": [],
   "source": []
  },
  {
   "cell_type": "code",
   "execution_count": null,
   "id": "fe01555f",
   "metadata": {},
   "outputs": [],
   "source": []
  },
  {
   "cell_type": "code",
   "execution_count": null,
   "id": "11a966fd",
   "metadata": {},
   "outputs": [],
   "source": []
  }
 ],
 "metadata": {
  "kernelspec": {
   "display_name": "Python 3 (ipykernel)",
   "language": "python",
   "name": "python3"
  },
  "language_info": {
   "codemirror_mode": {
    "name": "ipython",
    "version": 3
   },
   "file_extension": ".py",
   "mimetype": "text/x-python",
   "name": "python",
   "nbconvert_exporter": "python",
   "pygments_lexer": "ipython3",
   "version": "3.10.12"
  }
 },
 "nbformat": 4,
 "nbformat_minor": 5
}
