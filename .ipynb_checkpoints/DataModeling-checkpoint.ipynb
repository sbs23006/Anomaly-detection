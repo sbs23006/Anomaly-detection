{
 "cells": [
  {
   "cell_type": "code",
   "execution_count": 1,
   "id": "d3dad0b9",
   "metadata": {},
   "outputs": [],
   "source": [
    "import warnings\n",
    "warnings.filterwarnings(\"ignore\")"
   ]
  },
  {
   "cell_type": "code",
   "execution_count": 2,
   "id": "930152cf",
   "metadata": {},
   "outputs": [
    {
     "name": "stderr",
     "output_type": "stream",
     "text": [
      "2023-09-25 20:14:50.076947: W tensorflow/stream_executor/platform/default/dso_loader.cc:64] Could not load dynamic library 'libcudart.so.11.0'; dlerror: libcudart.so.11.0: cannot open shared object file: No such file or directory\n",
      "2023-09-25 20:14:50.076992: I tensorflow/stream_executor/cuda/cudart_stub.cc:29] Ignore above cudart dlerror if you do not have a GPU set up on your machine.\n"
     ]
    }
   ],
   "source": [
    "from pyspark.sql import SparkSession\n",
    "from pyspark.sql import functions\n",
    "import tensorflow as tf\n",
    "from tensorflow.keras.models import Sequential\n",
    "from tensorflow.keras.layers import Dense, Input\n",
    "import matplotlib.pyplot as plt\n",
    "from tensorflow.keras.models import load_model"
   ]
  },
  {
   "cell_type": "code",
   "execution_count": 3,
   "id": "0df1e981",
   "metadata": {},
   "outputs": [],
   "source": [
    "#spark = SparkSession.builder.appName(\"DataModeling\").getOrCreate()\n",
    "spark = SparkSession.builder.appName(\"DataModeling\").config(\"spark.driver.memory\", \"4g\").getOrCreate()"
   ]
  },
  {
   "cell_type": "code",
   "execution_count": 4,
   "id": "d2746ba7",
   "metadata": {},
   "outputs": [
    {
     "name": "stderr",
     "output_type": "stream",
     "text": [
      "                                                                                \r"
     ]
    }
   ],
   "source": [
    "# Read the Parquet file into a DataFrame\n",
    "df = spark.read.parquet(\"/user1/data/parquet/*.parquet\")"
   ]
  },
  {
   "cell_type": "code",
   "execution_count": 5,
   "id": "41b67820",
   "metadata": {},
   "outputs": [
    {
     "name": "stderr",
     "output_type": "stream",
     "text": [
      "\r",
      "[Stage 1:>                                                          (0 + 1) / 1]\r"
     ]
    },
    {
     "name": "stdout",
     "output_type": "stream",
     "text": [
      "+---------+-------------------+------------+-------------------------+-------------------+------------------+-------------------+------------------+\n",
      "|square_id|timestamp          |country_code|internet_traffic_activity|hourly_timestamp   |SMS_activity      |call_activity      |weekend_or_weekday|\n",
      "+---------+-------------------+------------+-------------------------+-------------------+------------------+-------------------+------------------+\n",
      "|1        |2013-10-31 23:00:00|39          |11.028366381681026       |2013-10-31 23:00:00|0.2986512597414538|0.2132127854455914 |weekday           |\n",
      "|1        |2013-10-31 23:10:00|39          |11.100963451409388       |2013-10-31 23:00:00|0.3983777976024016|0.32241464495433614|weekday           |\n",
      "+---------+-------------------+------------+-------------------------+-------------------+------------------+-------------------+------------------+\n",
      "only showing top 2 rows\n",
      "\n"
     ]
    },
    {
     "name": "stderr",
     "output_type": "stream",
     "text": [
      "\r",
      "                                                                                \r"
     ]
    }
   ],
   "source": [
    "df.show(2, truncate=False)"
   ]
  },
  {
   "cell_type": "code",
   "execution_count": 6,
   "id": "4bb2d771",
   "metadata": {},
   "outputs": [
    {
     "name": "stdout",
     "output_type": "stream",
     "text": [
      "root\n",
      " |-- square_id: string (nullable = true)\n",
      " |-- timestamp: timestamp (nullable = true)\n",
      " |-- country_code: integer (nullable = true)\n",
      " |-- internet_traffic_activity: double (nullable = true)\n",
      " |-- hourly_timestamp: string (nullable = true)\n",
      " |-- SMS_activity: double (nullable = true)\n",
      " |-- call_activity: double (nullable = true)\n",
      " |-- weekend_or_weekday: string (nullable = true)\n",
      "\n"
     ]
    }
   ],
   "source": [
    "df.printSchema()"
   ]
  },
  {
   "cell_type": "code",
   "execution_count": 11,
   "id": "8c300a90",
   "metadata": {},
   "outputs": [
    {
     "name": "stderr",
     "output_type": "stream",
     "text": [
      "                                                                                \r"
     ]
    },
    {
     "data": {
      "text/plain": [
       "7516761"
      ]
     },
     "execution_count": 11,
     "metadata": {},
     "output_type": "execute_result"
    }
   ],
   "source": [
    "df.count()"
   ]
  },
  {
   "cell_type": "code",
   "execution_count": 12,
   "id": "ef650868",
   "metadata": {},
   "outputs": [
    {
     "name": "stderr",
     "output_type": "stream",
     "text": [
      "[Stage 7:=================================================>         (5 + 1) / 6]\r"
     ]
    },
    {
     "name": "stdout",
     "output_type": "stream",
     "text": [
      "Count of distinct rows: 7516761\n"
     ]
    },
    {
     "name": "stderr",
     "output_type": "stream",
     "text": [
      "\r",
      "                                                                                \r"
     ]
    }
   ],
   "source": [
    "print('Count of distinct rows: {0}'.format(df.distinct().count())) #duplicates"
   ]
  },
  {
   "cell_type": "code",
   "execution_count": 8,
   "id": "633fca15",
   "metadata": {},
   "outputs": [
    {
     "name": "stderr",
     "output_type": "stream",
     "text": [
      "\r",
      "[Stage 11:>                                                         (0 + 2) / 2]\r"
     ]
    },
    {
     "name": "stdout",
     "output_type": "stream",
     "text": [
      "+------------+-------+\n",
      "|country_code|  count|\n",
      "+------------+-------+\n",
      "|          45|      1|\n",
      "|          40|      1|\n",
      "|         966|      2|\n",
      "|         421|      2|\n",
      "|         353|      3|\n",
      "|         385|      3|\n",
      "|          61|      4|\n",
      "|          31|      4|\n",
      "|         356|      5|\n",
      "|          90|      6|\n",
      "|         386|      7|\n",
      "|         351|      9|\n",
      "|          43|     14|\n",
      "|          32|     15|\n",
      "|         358|     21|\n",
      "|           0|     21|\n",
      "|         213|     23|\n",
      "|          47|     42|\n",
      "|          34|     68|\n",
      "|           1|     91|\n",
      "|         420|     93|\n",
      "|          48|     98|\n",
      "|          49|    151|\n",
      "|          46|    218|\n",
      "|           7|    496|\n",
      "|          86|   1054|\n",
      "|          44|   1197|\n",
      "|          33|   1298|\n",
      "|          41|   1353|\n",
      "|          39|7510461|\n",
      "+------------+-------+\n",
      "\n"
     ]
    },
    {
     "name": "stderr",
     "output_type": "stream",
     "text": [
      "\r",
      "                                                                                \r"
     ]
    }
   ],
   "source": [
    "df.groupby('country_code').count().sort('count').show(30)"
   ]
  },
  {
   "cell_type": "code",
   "execution_count": 9,
   "id": "98c74e2a",
   "metadata": {},
   "outputs": [
    {
     "name": "stderr",
     "output_type": "stream",
     "text": [
      "                                                                                \r"
     ]
    },
    {
     "name": "stdout",
     "output_type": "stream",
     "text": [
      "+-------+-------------------------+--------------------+--------------------+\n",
      "|summary|internet_traffic_activity|        SMS_activity|       call_activity|\n",
      "+-------+-------------------------+--------------------+--------------------+\n",
      "|  count|                  7516761|             7516761|             7516761|\n",
      "|   mean|        81.02824368179743|   7.151377454212734|    8.21545912479918|\n",
      "| stddev|       143.69671563945369|  14.738696897264143|  16.946580289458204|\n",
      "|    min|     4.792346910579604E-5|1.235047397115846...|4.662995399058662E-6|\n",
      "|    max|        7936.265379884158|   1211.443277333027|   532.5074148119132|\n",
      "+-------+-------------------------+--------------------+--------------------+\n",
      "\n"
     ]
    }
   ],
   "source": [
    "# numerical stat\n",
    "df.describe(['internet_traffic_activity', 'SMS_activity', 'call_activity']).show()"
   ]
  },
  {
   "cell_type": "code",
   "execution_count": 20,
   "id": "1bca607b",
   "metadata": {},
   "outputs": [
    {
     "name": "stderr",
     "output_type": "stream",
     "text": [
      "                                                                                \r"
     ]
    }
   ],
   "source": [
    "# distribution\n",
    "internet = df.select(['internet_traffic_activity']).toPandas()"
   ]
  },
  {
   "cell_type": "code",
   "execution_count": 22,
   "id": "ff7adf43",
   "metadata": {},
   "outputs": [
    {
     "data": {
      "image/png": "[encoded data removed]",
      "text/plain": [
       "<Figure size 432x288 with 1 Axes>"
      ]
     },
     "metadata": {
      "needs_background": "light"
     },
     "output_type": "display_data"
    }
   ],
   "source": [
    "import seaborn as sns\n",
    "sns.histplot(internet['internet_traffic_activity']);"
   ]
  },
  {
   "cell_type": "code",
   "execution_count": 23,
   "id": "c7185956",
   "metadata": {},
   "outputs": [
    {
     "name": "stderr",
     "output_type": "stream",
     "text": [
      "\r",
      "[Stage 20:>                                                         (0 + 2) / 2]\r"
     ]
    },
    {
     "name": "stdout",
     "output_type": "stream",
     "text": [
      "The skewness of the 'SMS_activity' column is: 7.866375062955847\n"
     ]
    },
    {
     "name": "stderr",
     "output_type": "stream",
     "text": [
      "\r",
      "                                                                                \r"
     ]
    }
   ],
   "source": [
    "from pyspark.sql.functions import skewness\n",
    "\n",
    "skewness_value = df.agg(skewness('SMS_activity')).collect()[0][0]\n",
    "print(f\"The skewness of the 'SMS_activity' column is: {skewness_value}\")"
   ]
  },
  {
   "cell_type": "code",
   "execution_count": 24,
   "id": "9a8128d4",
   "metadata": {
    "scrolled": true
   },
   "outputs": [
    {
     "name": "stderr",
     "output_type": "stream",
     "text": [
      "\r",
      "[Stage 23:>                                                         (0 + 2) / 2]\r"
     ]
    },
    {
     "name": "stdout",
     "output_type": "stream",
     "text": [
      "The skewness of the 'call_activity' column is: 6.846711937178775\n"
     ]
    },
    {
     "name": "stderr",
     "output_type": "stream",
     "text": [
      "\r",
      "                                                                                \r"
     ]
    }
   ],
   "source": [
    "skewness_value = df.agg(skewness('call_activity')).collect()[0][0]\n",
    "print(f\"The skewness of the 'call_activity' column is: {skewness_value}\")"
   ]
  },
  {
   "cell_type": "code",
   "execution_count": 5,
   "id": "93ceef24",
   "metadata": {},
   "outputs": [],
   "source": [
    "from pyspark.sql.functions import col\n",
    "\n",
    "df = df.withColumn(\"square_id\", col(\"square_id\").cast(\"integer\"))"
   ]
  },
  {
   "cell_type": "code",
   "execution_count": 11,
   "id": "9d7ea3b8",
   "metadata": {},
   "outputs": [
    {
     "name": "stderr",
     "output_type": "stream",
     "text": [
      "                                                                                \r"
     ]
    },
    {
     "data": {
      "text/plain": [
       "[[1.0, 0.1415706480958958, 0.12647822181687138, 0.12565426847843997],\n",
       " [None, 1.0, 0.8789476193973431, 0.8444776822637831],\n",
       " [None, None, 1.0, 0.8929825876389413],\n",
       " [None, None, None, 1.0]]"
      ]
     },
     "execution_count": 11,
     "metadata": {},
     "output_type": "execute_result"
    }
   ],
   "source": [
    "# correlation\n",
    "features = ['square_id', 'internet_traffic_activity', 'SMS_activity', 'call_activity']\n",
    "n = len(features)\n",
    "\n",
    "corr = []\n",
    "\n",
    "for i in range(0, n):\n",
    "    temp = [None]*i\n",
    "    \n",
    "    for j in range(i, n):\n",
    "        temp.append(df.corr(features[i], features[j]))\n",
    "    corr.append(temp)\n",
    "    \n",
    "corr"
   ]
  },
  {
   "cell_type": "code",
   "execution_count": 6,
   "id": "30404494",
   "metadata": {},
   "outputs": [
    {
     "name": "stderr",
     "output_type": "stream",
     "text": [
      "\r",
      "[Stage 1:>                                                          (0 + 1) / 1]\r"
     ]
    },
    {
     "name": "stdout",
     "output_type": "stream",
     "text": [
      "+---------+-------------------+------------+-------------------------+-------------------+------------------+-------------------+------------------+-----------+-----------+\n",
      "|square_id|          timestamp|country_code|internet_traffic_activity|   hourly_timestamp|      SMS_activity|      call_activity|weekend_or_weekday|hour_of_day|time_of_day|\n",
      "+---------+-------------------+------------+-------------------------+-------------------+------------------+-------------------+------------------+-----------+-----------+\n",
      "|        1|2013-10-31 23:00:00|          39|       11.028366381681026|2013-10-31 23:00:00|0.2986512597414538| 0.2132127854455914|           weekday|         23|      night|\n",
      "|        1|2013-10-31 23:10:00|          39|       11.100963451409388|2013-10-31 23:00:00|0.3983777976024016|0.32241464495433614|           weekday|         23|      night|\n",
      "|        1|2013-10-31 23:20:00|          39|       10.892770602791096|2013-10-31 23:00:00|0.5015934573020482| 0.1887771729145041|           weekday|         23|      night|\n",
      "+---------+-------------------+------------+-------------------------+-------------------+------------------+-------------------+------------------+-----------+-----------+\n",
      "only showing top 3 rows\n",
      "\n"
     ]
    },
    {
     "name": "stderr",
     "output_type": "stream",
     "text": [
      "\r",
      "                                                                                \r"
     ]
    }
   ],
   "source": [
    "# transform timestamp into categorical values\n",
    "from pyspark.sql.functions import hour\n",
    "from pyspark.sql.functions import udf\n",
    "\n",
    "df = df.withColumn('hour_of_day', hour(df.timestamp))\n",
    "\n",
    "def categorize_hour(hour):\n",
    "    if 6 <= hour < 12:\n",
    "        return 'morning'\n",
    "    elif 12 <= hour < 15:\n",
    "        return 'lunch'\n",
    "    elif 15 <= hour < 18:\n",
    "        return 'afternoon'\n",
    "    elif 18 <= hour < 22:\n",
    "        return 'evening'\n",
    "    else:\n",
    "        return 'night'\n",
    "    \n",
    "# Apply the UDF to create a new column with categorical values\n",
    "categorize_hour_udf = udf(categorize_hour)\n",
    "df = df.withColumn('time_of_day', categorize_hour_udf(df.hour_of_day))\n",
    "\n",
    "# Show the transformed DataFrame\n",
    "df.show(3)"
   ]
  },
  {
   "cell_type": "code",
   "execution_count": 13,
   "id": "693d6096",
   "metadata": {
    "scrolled": true
   },
   "outputs": [
    {
     "name": "stderr",
     "output_type": "stream",
     "text": [
      "                                                                                \r"
     ]
    },
    {
     "data": {
      "image/png": "[encoded data removed]",
      "text/plain": [
       "<Figure size 432x288 with 1 Axes>"
      ]
     },
     "metadata": {
      "needs_background": "light"
     },
     "output_type": "display_data"
    }
   ],
   "source": [
    "# Group the data by time_of_day and aggregate the average of each activity\n",
    "activity_by_time_of_day = df.groupBy('time_of_day').agg({'SMS_activity': 'avg', 'call_activity': 'avg', 'internet_traffic_activity': 'avg'})\n",
    "\n",
    "# Convert the DataFrame to a Pandas DataFrame for plotting\n",
    "activity_by_time_of_day_pd = activity_by_time_of_day.toPandas()\n",
    "\n",
    "# Plot the average volume of each activity per time_of_day\n",
    "activity_by_time_of_day_pd.plot(kind='bar', x='time_of_day', y=['avg(SMS_activity)', 'avg(call_activity)', 'avg(internet_traffic_activity)'])\n",
    "plt.title('Avg volume of SMS, call and internet activity across the day')\n",
    "plt.xlabel('Time of Day')\n",
    "plt.ylabel('Average Volume')\n",
    "plt.show()"
   ]
  },
  {
   "cell_type": "code",
   "execution_count": 7,
   "id": "e59ade3c",
   "metadata": {},
   "outputs": [
    {
     "name": "stdout",
     "output_type": "stream",
     "text": [
      "+---------+-------------------+------------+-------------------------+-------------------+------------------+-------------------+------------------+-----------+-----------+-----------------------+\n",
      "|square_id|          timestamp|country_code|internet_traffic_activity|   hourly_timestamp|      SMS_activity|      call_activity|weekend_or_weekday|hour_of_day|time_of_day|weekend_weekday_encoded|\n",
      "+---------+-------------------+------------+-------------------------+-------------------+------------------+-------------------+------------------+-----------+-----------+-----------------------+\n",
      "|        1|2013-10-31 23:00:00|          39|       11.028366381681026|2013-10-31 23:00:00|0.2986512597414538| 0.2132127854455914|           weekday|         23|      night|                      0|\n",
      "|        1|2013-10-31 23:10:00|          39|       11.100963451409388|2013-10-31 23:00:00|0.3983777976024016|0.32241464495433614|           weekday|         23|      night|                      0|\n",
      "|        1|2013-10-31 23:20:00|          39|       10.892770602791096|2013-10-31 23:00:00|0.5015934573020482| 0.1887771729145041|           weekday|         23|      night|                      0|\n",
      "+---------+-------------------+------------+-------------------------+-------------------+------------------+-------------------+------------------+-----------+-----------+-----------------------+\n",
      "only showing top 3 rows\n",
      "\n"
     ]
    },
    {
     "name": "stderr",
     "output_type": "stream",
     "text": [
      "\r",
      "[Stage 2:>                                                          (0 + 1) / 1]\r",
      "\r",
      "                                                                                \r"
     ]
    }
   ],
   "source": [
    "#preparing for modeling (cat values, scaling, splitting)\n",
    "# handle categorical values\n",
    "\n",
    "df = df.withColumn('weekend_weekday_encoded',functions.when(df['weekend_or_weekday']=='weekday',0).otherwise(1))\n",
    "df.show(3)"
   ]
  },
  {
   "cell_type": "code",
   "execution_count": 8,
   "id": "018ef9a9",
   "metadata": {},
   "outputs": [],
   "source": [
    "from pyspark.sql.functions import when\n",
    "df = df.withColumn('time_of_day_encoded', when(df['time_of_day'] == 'morning', 2)\n",
    "                                          .when(df['time_of_day'] == 'lunch', 3)\n",
    "                                          .when(df['time_of_day'] == 'afternoon', 4)\n",
    "                                          .when(df['time_of_day'] == 'evening', 5)\n",
    "                                          .when(df['time_of_day'] == 'night', 6))"
   ]
  },
  {
   "cell_type": "code",
   "execution_count": 9,
   "id": "7f635171",
   "metadata": {},
   "outputs": [
    {
     "name": "stdout",
     "output_type": "stream",
     "text": [
      "root\n",
      " |-- square_id: integer (nullable = true)\n",
      " |-- timestamp: timestamp (nullable = true)\n",
      " |-- country_code: integer (nullable = true)\n",
      " |-- internet_traffic_activity: double (nullable = true)\n",
      " |-- hourly_timestamp: string (nullable = true)\n",
      " |-- SMS_activity: double (nullable = true)\n",
      " |-- call_activity: double (nullable = true)\n",
      " |-- weekend_or_weekday: string (nullable = true)\n",
      " |-- hour_of_day: integer (nullable = true)\n",
      " |-- time_of_day: string (nullable = true)\n",
      " |-- weekend_weekday_encoded: integer (nullable = false)\n",
      " |-- time_of_day_encoded: integer (nullable = true)\n",
      "\n"
     ]
    }
   ],
   "source": [
    "df.printSchema()"
   ]
  },
  {
   "cell_type": "code",
   "execution_count": 10,
   "id": "2c8f6ba8",
   "metadata": {},
   "outputs": [],
   "source": [
    "# selecting features for the model\n",
    "data = df.select('square_id', 'country_code', 'internet_traffic_activity', 'SMS_activity', \n",
    "                 'call_activity', 'time_of_day_encoded', 'weekend_weekday_encoded')"
   ]
  },
  {
   "cell_type": "code",
   "execution_count": 11,
   "id": "bd456cf6",
   "metadata": {},
   "outputs": [
    {
     "name": "stdout",
     "output_type": "stream",
     "text": [
      "root\n",
      " |-- square_id: integer (nullable = true)\n",
      " |-- country_code: integer (nullable = true)\n",
      " |-- internet_traffic_activity: double (nullable = true)\n",
      " |-- SMS_activity: double (nullable = true)\n",
      " |-- call_activity: double (nullable = true)\n",
      " |-- time_of_day_encoded: integer (nullable = true)\n",
      " |-- weekend_weekday_encoded: integer (nullable = false)\n",
      "\n"
     ]
    }
   ],
   "source": [
    "data.printSchema()"
   ]
  },
  {
   "cell_type": "code",
   "execution_count": 46,
   "id": "80ea327a",
   "metadata": {},
   "outputs": [
    {
     "name": "stderr",
     "output_type": "stream",
     "text": [
      "                                                                                \r"
     ]
    },
    {
     "ename": "Py4JJavaError",
     "evalue": "An error occurred while calling o395.collectToPython.\n: java.lang.OutOfMemoryError: GC overhead limit exceeded\n",
     "output_type": "error",
     "traceback": [
      "\u001b[0;31m---------------------------------------------------------------------------\u001b[0m",
      "\u001b[0;31mPy4JJavaError\u001b[0m                             Traceback (most recent call last)",
      "\u001b[0;32m/tmp/ipykernel_9176/3160708900.py\u001b[0m in \u001b[0;36m<module>\u001b[0;34m\u001b[0m\n\u001b[1;32m      1\u001b[0m \u001b[0;32mimport\u001b[0m \u001b[0mnumpy\u001b[0m \u001b[0;32mas\u001b[0m \u001b[0mnp\u001b[0m\u001b[0;34m\u001b[0m\u001b[0;34m\u001b[0m\u001b[0m\n\u001b[0;32m----> 2\u001b[0;31m \u001b[0mdata_array\u001b[0m \u001b[0;34m=\u001b[0m \u001b[0mnp\u001b[0m\u001b[0;34m.\u001b[0m\u001b[0marray\u001b[0m\u001b[0;34m(\u001b[0m\u001b[0mdata\u001b[0m\u001b[0;34m.\u001b[0m\u001b[0mcollect\u001b[0m\u001b[0;34m(\u001b[0m\u001b[0;34m)\u001b[0m\u001b[0;34m)\u001b[0m\u001b[0;34m\u001b[0m\u001b[0;34m\u001b[0m\u001b[0m\n\u001b[0m",
      "\u001b[0;32m/usr/local/spark/python/pyspark/sql/dataframe.py\u001b[0m in \u001b[0;36mcollect\u001b[0;34m(self)\u001b[0m\n\u001b[1;32m    691\u001b[0m         \"\"\"\n\u001b[1;32m    692\u001b[0m         \u001b[0;32mwith\u001b[0m \u001b[0mSCCallSiteSync\u001b[0m\u001b[0;34m(\u001b[0m\u001b[0mself\u001b[0m\u001b[0;34m.\u001b[0m\u001b[0m_sc\u001b[0m\u001b[0;34m)\u001b[0m \u001b[0;32mas\u001b[0m \u001b[0mcss\u001b[0m\u001b[0;34m:\u001b[0m\u001b[0;34m\u001b[0m\u001b[0;34m\u001b[0m\u001b[0m\n\u001b[0;32m--> 693\u001b[0;31m             \u001b[0msock_info\u001b[0m \u001b[0;34m=\u001b[0m \u001b[0mself\u001b[0m\u001b[0;34m.\u001b[0m\u001b[0m_jdf\u001b[0m\u001b[0;34m.\u001b[0m\u001b[0mcollectToPython\u001b[0m\u001b[0;34m(\u001b[0m\u001b[0;34m)\u001b[0m\u001b[0;34m\u001b[0m\u001b[0;34m\u001b[0m\u001b[0m\n\u001b[0m\u001b[1;32m    694\u001b[0m         \u001b[0;32mreturn\u001b[0m \u001b[0mlist\u001b[0m\u001b[0;34m(\u001b[0m\u001b[0m_load_from_socket\u001b[0m\u001b[0;34m(\u001b[0m\u001b[0msock_info\u001b[0m\u001b[0;34m,\u001b[0m \u001b[0mBatchedSerializer\u001b[0m\u001b[0;34m(\u001b[0m\u001b[0mPickleSerializer\u001b[0m\u001b[0;34m(\u001b[0m\u001b[0;34m)\u001b[0m\u001b[0;34m)\u001b[0m\u001b[0;34m)\u001b[0m\u001b[0;34m)\u001b[0m\u001b[0;34m\u001b[0m\u001b[0;34m\u001b[0m\u001b[0m\n\u001b[1;32m    695\u001b[0m \u001b[0;34m\u001b[0m\u001b[0m\n",
      "\u001b[0;32m~/.local/lib/python3.10/site-packages/py4j/java_gateway.py\u001b[0m in \u001b[0;36m__call__\u001b[0;34m(self, *args)\u001b[0m\n\u001b[1;32m   1320\u001b[0m \u001b[0;34m\u001b[0m\u001b[0m\n\u001b[1;32m   1321\u001b[0m         \u001b[0manswer\u001b[0m \u001b[0;34m=\u001b[0m \u001b[0mself\u001b[0m\u001b[0;34m.\u001b[0m\u001b[0mgateway_client\u001b[0m\u001b[0;34m.\u001b[0m\u001b[0msend_command\u001b[0m\u001b[0;34m(\u001b[0m\u001b[0mcommand\u001b[0m\u001b[0;34m)\u001b[0m\u001b[0;34m\u001b[0m\u001b[0;34m\u001b[0m\u001b[0m\n\u001b[0;32m-> 1322\u001b[0;31m         return_value = get_return_value(\n\u001b[0m\u001b[1;32m   1323\u001b[0m             answer, self.gateway_client, self.target_id, self.name)\n\u001b[1;32m   1324\u001b[0m \u001b[0;34m\u001b[0m\u001b[0m\n",
      "\u001b[0;32m/usr/local/spark/python/pyspark/sql/utils.py\u001b[0m in \u001b[0;36mdeco\u001b[0;34m(*a, **kw)\u001b[0m\n\u001b[1;32m    109\u001b[0m     \u001b[0;32mdef\u001b[0m \u001b[0mdeco\u001b[0m\u001b[0;34m(\u001b[0m\u001b[0;34m*\u001b[0m\u001b[0ma\u001b[0m\u001b[0;34m,\u001b[0m \u001b[0;34m**\u001b[0m\u001b[0mkw\u001b[0m\u001b[0;34m)\u001b[0m\u001b[0;34m:\u001b[0m\u001b[0;34m\u001b[0m\u001b[0;34m\u001b[0m\u001b[0m\n\u001b[1;32m    110\u001b[0m         \u001b[0;32mtry\u001b[0m\u001b[0;34m:\u001b[0m\u001b[0;34m\u001b[0m\u001b[0;34m\u001b[0m\u001b[0m\n\u001b[0;32m--> 111\u001b[0;31m             \u001b[0;32mreturn\u001b[0m \u001b[0mf\u001b[0m\u001b[0;34m(\u001b[0m\u001b[0;34m*\u001b[0m\u001b[0ma\u001b[0m\u001b[0;34m,\u001b[0m \u001b[0;34m**\u001b[0m\u001b[0mkw\u001b[0m\u001b[0;34m)\u001b[0m\u001b[0;34m\u001b[0m\u001b[0;34m\u001b[0m\u001b[0m\n\u001b[0m\u001b[1;32m    112\u001b[0m         \u001b[0;32mexcept\u001b[0m \u001b[0mpy4j\u001b[0m\u001b[0;34m.\u001b[0m\u001b[0mprotocol\u001b[0m\u001b[0;34m.\u001b[0m\u001b[0mPy4JJavaError\u001b[0m \u001b[0;32mas\u001b[0m \u001b[0me\u001b[0m\u001b[0;34m:\u001b[0m\u001b[0;34m\u001b[0m\u001b[0;34m\u001b[0m\u001b[0m\n\u001b[1;32m    113\u001b[0m             \u001b[0mconverted\u001b[0m \u001b[0;34m=\u001b[0m \u001b[0mconvert_exception\u001b[0m\u001b[0;34m(\u001b[0m\u001b[0me\u001b[0m\u001b[0;34m.\u001b[0m\u001b[0mjava_exception\u001b[0m\u001b[0;34m)\u001b[0m\u001b[0;34m\u001b[0m\u001b[0;34m\u001b[0m\u001b[0m\n",
      "\u001b[0;32m~/.local/lib/python3.10/site-packages/py4j/protocol.py\u001b[0m in \u001b[0;36mget_return_value\u001b[0;34m(answer, gateway_client, target_id, name)\u001b[0m\n\u001b[1;32m    324\u001b[0m             \u001b[0mvalue\u001b[0m \u001b[0;34m=\u001b[0m \u001b[0mOUTPUT_CONVERTER\u001b[0m\u001b[0;34m[\u001b[0m\u001b[0mtype\u001b[0m\u001b[0;34m]\u001b[0m\u001b[0;34m(\u001b[0m\u001b[0manswer\u001b[0m\u001b[0;34m[\u001b[0m\u001b[0;36m2\u001b[0m\u001b[0;34m:\u001b[0m\u001b[0;34m]\u001b[0m\u001b[0;34m,\u001b[0m \u001b[0mgateway_client\u001b[0m\u001b[0;34m)\u001b[0m\u001b[0;34m\u001b[0m\u001b[0;34m\u001b[0m\u001b[0m\n\u001b[1;32m    325\u001b[0m             \u001b[0;32mif\u001b[0m \u001b[0manswer\u001b[0m\u001b[0;34m[\u001b[0m\u001b[0;36m1\u001b[0m\u001b[0;34m]\u001b[0m \u001b[0;34m==\u001b[0m \u001b[0mREFERENCE_TYPE\u001b[0m\u001b[0;34m:\u001b[0m\u001b[0;34m\u001b[0m\u001b[0;34m\u001b[0m\u001b[0m\n\u001b[0;32m--> 326\u001b[0;31m                 raise Py4JJavaError(\n\u001b[0m\u001b[1;32m    327\u001b[0m                     \u001b[0;34m\"An error occurred while calling {0}{1}{2}.\\n\"\u001b[0m\u001b[0;34m.\u001b[0m\u001b[0;34m\u001b[0m\u001b[0;34m\u001b[0m\u001b[0m\n\u001b[1;32m    328\u001b[0m                     format(target_id, \".\", name), value)\n",
      "\u001b[0;31mPy4JJavaError\u001b[0m: An error occurred while calling o395.collectToPython.\n: java.lang.OutOfMemoryError: GC overhead limit exceeded\n"
     ]
    }
   ],
   "source": [
    "import numpy as np\n",
    "data_array = np.array(data.collect())"
   ]
  },
  {
   "cell_type": "code",
   "execution_count": 12,
   "id": "dfde66b1",
   "metadata": {},
   "outputs": [
    {
     "name": "stdout",
     "output_type": "stream",
     "text": [
      "root\n",
      " |-- square_id: integer (nullable = true)\n",
      " |-- country_code: integer (nullable = true)\n",
      " |-- internet_traffic_activity: float (nullable = true)\n",
      " |-- SMS_activity: float (nullable = true)\n",
      " |-- call_activity: float (nullable = true)\n",
      " |-- time_of_day_encoded: integer (nullable = true)\n",
      " |-- weekend_weekday_encoded: integer (nullable = false)\n",
      "\n"
     ]
    }
   ],
   "source": [
    "#data is too big so we downcast double to float and then take a sample\n",
    "downcasted_df = data.select([col(c).cast(\"float\") if t == \"double\" else col(c) for c, t in data.dtypes])\n",
    "downcasted_df.printSchema()"
   ]
  },
  {
   "cell_type": "code",
   "execution_count": 13,
   "id": "b354fc7a",
   "metadata": {},
   "outputs": [],
   "source": [
    "sample = downcasted_df.sample(fraction=0.2, seed=42)"
   ]
  },
  {
   "cell_type": "code",
   "execution_count": 14,
   "id": "cae90deb",
   "metadata": {},
   "outputs": [
    {
     "name": "stderr",
     "output_type": "stream",
     "text": [
      "                                                                                \r"
     ]
    }
   ],
   "source": [
    "# let's try again\n",
    "import numpy as np\n",
    "data_array = np.array(sample.collect())"
   ]
  },
  {
   "cell_type": "code",
   "execution_count": 17,
   "id": "2e94dbbe",
   "metadata": {},
   "outputs": [
    {
     "data": {
      "text/plain": [
       "(1505750, 7)"
      ]
     },
     "execution_count": 17,
     "metadata": {},
     "output_type": "execute_result"
    }
   ],
   "source": [
    "data_array.shape"
   ]
  },
  {
   "cell_type": "code",
   "execution_count": 18,
   "id": "9958581c",
   "metadata": {},
   "outputs": [
    {
     "data": {
      "text/plain": [
       "array([ 1.        , 39.        ,  8.51417828,  0.21491459,  0.05638824,\n",
       "        6.        ,  1.        ])"
      ]
     },
     "execution_count": 18,
     "metadata": {},
     "output_type": "execute_result"
    }
   ],
   "source": [
    "data_array[0]"
   ]
  },
  {
   "cell_type": "code",
   "execution_count": 15,
   "id": "99643a1f",
   "metadata": {},
   "outputs": [],
   "source": [
    "def normalize(X):\n",
    "    x_mean = X.mean(axis=0)\n",
    "    x_std = X.std(axis=0)\n",
    "    X = (X - X.mean(axis=0))/X.std(axis=0)\n",
    "    return X"
   ]
  },
  {
   "cell_type": "code",
   "execution_count": 16,
   "id": "25a82851",
   "metadata": {},
   "outputs": [
    {
     "name": "stdout",
     "output_type": "stream",
     "text": [
      "[[-1.75986712 -0.00657524 -0.50508752 ... -0.48187685  1.58766688\n",
      "   3.85086641]\n",
      " [-1.75986712 -0.00657524 -0.5134828  ... -0.47693077 -1.16699526\n",
      "  -0.25968182]\n",
      " [-1.75986712 -0.00657524 -0.49869492 ... -0.47422186 -1.16699526\n",
      "  -0.25968182]\n",
      " ...\n",
      " [ 1.72582484 -0.00657524 -0.34027278 ... -0.44356865  0.89900134\n",
      "  -0.25968182]\n",
      " [ 1.72582484 -0.00657524 -0.43172422 ... -0.45459186  1.58766688\n",
      "  -0.25968182]\n",
      " [ 1.72582484 -0.00657524 -0.45552626 ... -0.46401074  1.58766688\n",
      "  -0.25968182]]\n"
     ]
    }
   ],
   "source": [
    "X_train = normalize(data_array)\n",
    "print(X_train)"
   ]
  },
  {
   "cell_type": "code",
   "execution_count": 17,
   "id": "19e1c79a",
   "metadata": {},
   "outputs": [
    {
     "data": {
      "text/plain": [
       "(1505750, 7)"
      ]
     },
     "execution_count": 17,
     "metadata": {},
     "output_type": "execute_result"
    }
   ],
   "source": [
    "X_train.shape"
   ]
  },
  {
   "cell_type": "markdown",
   "id": "221e037e",
   "metadata": {},
   "source": [
    "### Model definition"
   ]
  },
  {
   "cell_type": "code",
   "execution_count": 20,
   "id": "9a097ad5",
   "metadata": {},
   "outputs": [
    {
     "name": "stderr",
     "output_type": "stream",
     "text": [
      "2023-09-25 13:35:16.846862: W tensorflow/stream_executor/platform/default/dso_loader.cc:64] Could not load dynamic library 'libcuda.so.1'; dlerror: libcuda.so.1: cannot open shared object file: No such file or directory\n",
      "2023-09-25 13:35:16.846910: W tensorflow/stream_executor/cuda/cuda_driver.cc:269] failed call to cuInit: UNKNOWN ERROR (303)\n",
      "2023-09-25 13:35:16.846948: I tensorflow/stream_executor/cuda/cuda_diagnostics.cc:156] kernel driver does not appear to be running on this host (muhammad-VM): /proc/driver/nvidia/version does not exist\n",
      "2023-09-25 13:35:16.850619: I tensorflow/core/platform/cpu_feature_guard.cc:151] This TensorFlow binary is optimized with oneAPI Deep Neural Network Library (oneDNN) to use the following CPU instructions in performance-critical operations:  AVX2\n",
      "To enable them in other operations, rebuild TensorFlow with the appropriate compiler flags.\n"
     ]
    }
   ],
   "source": [
    "input_dim = X_train.shape[1]\n",
    "\n",
    "# Encoder\n",
    "encoder = Sequential([\n",
    "    Input(shape=(input_dim,)),\n",
    "    Dense(64, activation='relu'),\n",
    "    Dense(32, activation='relu')\n",
    "])\n",
    "\n",
    "# Decoder\n",
    "decoder = Sequential([\n",
    "    Input(shape=(32,)),  # Match the output shape of the encoder\n",
    "    Dense(64, activation='relu'),\n",
    "    Dense(input_dim, activation='linear')\n",
    "])\n",
    "\n",
    "# Autoencoder (combines the encoder and decoder)\n",
    "autoencoder = Sequential([encoder, decoder])\n",
    "\n",
    "autoencoder.compile(optimizer='adam', loss='mean_squared_error', metrics=['mae', 'accuracy'])"
   ]
  },
  {
   "cell_type": "code",
   "execution_count": 22,
   "id": "b3c21d37",
   "metadata": {},
   "outputs": [
    {
     "name": "stdout",
     "output_type": "stream",
     "text": [
      "Epoch 1/10\n",
      "23528/23528 [==============================] - 125s 5ms/step - loss: 0.0285 - mae: 0.0200 - accuracy: 0.9856\n",
      "Epoch 2/10\n",
      "23528/23528 [==============================] - 117s 5ms/step - loss: 0.0179 - mae: 0.0158 - accuracy: 0.9887\n",
      "Epoch 3/10\n",
      "23528/23528 [==============================] - 128s 5ms/step - loss: 0.0140 - mae: 0.0116 - accuracy: 0.9919\n",
      "Epoch 4/10\n",
      "23528/23528 [==============================] - 129s 5ms/step - loss: 0.0101 - mae: 0.0127 - accuracy: 0.9914\n",
      "Epoch 5/10\n",
      "23528/23528 [==============================] - 132s 6ms/step - loss: 0.0201 - mae: 0.0109 - accuracy: 0.9923\n",
      "Epoch 6/10\n",
      "23528/23528 [==============================] - 128s 5ms/step - loss: 0.0168 - mae: 0.0126 - accuracy: 0.9915\n",
      "Epoch 7/10\n",
      "23528/23528 [==============================] - 130s 6ms/step - loss: 0.0172 - mae: 0.0111 - accuracy: 0.9930\n",
      "Epoch 8/10\n",
      "23528/23528 [==============================] - 126s 5ms/step - loss: 0.0150 - mae: 0.0118 - accuracy: 0.9916\n"
     ]
    }
   ],
   "source": [
    "early_stopping = tf.keras.callbacks.EarlyStopping(monitor=\"loss\", patience=4)\n",
    "\n",
    "history = autoencoder.fit(X_train, X_train, epochs=10, batch_size=64, callbacks=[early_stopping])"
   ]
  },
  {
   "cell_type": "code",
   "execution_count": 23,
   "id": "6f28660c",
   "metadata": {},
   "outputs": [],
   "source": [
    "autoencoder.save('model.h5')"
   ]
  },
  {
   "cell_type": "code",
   "execution_count": 16,
   "id": "e8685ae3",
   "metadata": {},
   "outputs": [
    {
     "name": "stderr",
     "output_type": "stream",
     "text": [
      "2023-09-25 18:55:20.515224: W tensorflow/stream_executor/platform/default/dso_loader.cc:64] Could not load dynamic library 'libcuda.so.1'; dlerror: libcuda.so.1: cannot open shared object file: No such file or directory\n",
      "2023-09-25 18:55:20.515285: W tensorflow/stream_executor/cuda/cuda_driver.cc:269] failed call to cuInit: UNKNOWN ERROR (303)\n",
      "2023-09-25 18:55:20.515314: I tensorflow/stream_executor/cuda/cuda_diagnostics.cc:156] kernel driver does not appear to be running on this host (muhammad-VM): /proc/driver/nvidia/version does not exist\n",
      "2023-09-25 18:55:20.522350: I tensorflow/core/platform/cpu_feature_guard.cc:151] This TensorFlow binary is optimized with oneAPI Deep Neural Network Library (oneDNN) to use the following CPU instructions in performance-critical operations:  AVX2\n",
      "To enable them in other operations, rebuild TensorFlow with the appropriate compiler flags.\n"
     ]
    }
   ],
   "source": [
    "autoencoder = load_model('model.h5')"
   ]
  },
  {
   "cell_type": "code",
   "execution_count": 30,
   "id": "1038d91d",
   "metadata": {},
   "outputs": [
    {
     "data": {
      "text/plain": [
       "{'verbose': 1, 'epochs': 10, 'steps': 23528}"
      ]
     },
     "execution_count": 30,
     "metadata": {},
     "output_type": "execute_result"
    }
   ],
   "source": [
    "history.params"
   ]
  },
  {
   "cell_type": "code",
   "execution_count": 31,
   "id": "5d70e12b",
   "metadata": {},
   "outputs": [
    {
     "data": {
      "text/plain": [
       "dict_keys(['loss', 'mae', 'accuracy'])"
      ]
     },
     "execution_count": 31,
     "metadata": {},
     "output_type": "execute_result"
    }
   ],
   "source": [
    "history.history.keys()"
   ]
  },
  {
   "cell_type": "code",
   "execution_count": 40,
   "id": "67c1924c",
   "metadata": {},
   "outputs": [
    {
     "data": {
      "image/png": "[encoded data removed]",
      "text/plain": [
       "<Figure size 432x288 with 1 Axes>"
      ]
     },
     "metadata": {
      "needs_background": "light"
     },
     "output_type": "display_data"
    }
   ],
   "source": [
    "training_loss = history.history['loss']\n",
    "training_accuracy = history.history['accuracy']\n",
    "\n",
    "plt.plot(training_loss, label='Training Loss')\n",
    "plt.xlabel('Epochs')\n",
    "plt.ylabel('')\n",
    "plt.title('Model Training Loss')\n",
    "plt.show()"
   ]
  },
  {
   "cell_type": "code",
   "execution_count": 39,
   "id": "5ba7782a",
   "metadata": {},
   "outputs": [
    {
     "data": {
      "image/png": "[encoded data removed]",
      "text/plain": [
       "<Figure size 432x288 with 1 Axes>"
      ]
     },
     "metadata": {
      "needs_background": "light"
     },
     "output_type": "display_data"
    }
   ],
   "source": [
    "plt.plot(training_accuracy, label='Training accuracy')\n",
    "plt.xlabel('Epochs')\n",
    "plt.ylabel('')\n",
    "plt.title('Model Training Accuracy')\n",
    "plt.show()"
   ]
  },
  {
   "cell_type": "code",
   "execution_count": 41,
   "id": "37d0e772",
   "metadata": {},
   "outputs": [
    {
     "name": "stdout",
     "output_type": "stream",
     "text": [
      "47055/47055 [==============================] - 170s 4ms/step - loss: 0.0023 - mae: 0.0035 - accuracy: 0.9981\n",
      "Test loss:  0.0022885350044816732\n",
      "Test accuracy:  0.003480855841189623\n"
     ]
    }
   ],
   "source": [
    "# let's evaluate the model\n",
    "score = autoencoder.evaluate(X_train, X_train, verbose=1)\n",
    "print(\"Test loss: \", score[0])\n",
    "print(\"Test accuracy: \", score[1])"
   ]
  },
  {
   "cell_type": "code",
   "execution_count": 17,
   "id": "2dfc6fe6",
   "metadata": {},
   "outputs": [],
   "source": [
    "reconstructions = autoencoder.predict(X_train)"
   ]
  },
  {
   "cell_type": "code",
   "execution_count": 18,
   "id": "3a9e176a",
   "metadata": {},
   "outputs": [
    {
     "data": {
      "text/plain": [
       "(96,)"
      ]
     },
     "execution_count": 18,
     "metadata": {},
     "output_type": "execute_result"
    }
   ],
   "source": [
    "# Calculate the reconstruction errors (MSE)\n",
    "mse = np.mean(np.square(X_train - reconstructions), axis=1)\n",
    "\n",
    "# Define a threshold for anomaly detection (e.g., based on a quantile of the MSE values)\n",
    "threshold = 2.0  # Adjust this threshold as needed\n",
    "\n",
    "# Identify anomalies based on the threshold\n",
    "anomalies = np.where(mse > threshold)[0]\n",
    "anomalies.shape"
   ]
  },
  {
   "cell_type": "code",
   "execution_count": 21,
   "id": "92d93af4",
   "metadata": {
    "scrolled": true
   },
   "outputs": [
    {
     "data": {
      "image/png": "[encoded data removed]",
      "text/plain": [
       "<Figure size 1080x432 with 1 Axes>"
      ]
     },
     "metadata": {
      "needs_background": "light"
     },
     "output_type": "display_data"
    }
   ],
   "source": [
    "plt.figure(figsize=(15, 6))\n",
    "plt.plot(range(len(X_train)), X_train, color='gray')\n",
    "\n",
    "# Plot anomalies as vertical lines\n",
    "for anomaly_idx in anomalies:\n",
    "    plt.axvline(x=anomaly_idx, color='red', linestyle='--', alpha=0.5)\n",
    "\n",
    "plt.title('Anomalies in Telecom Activity')\n",
    "plt.show()"
   ]
  },
  {
   "cell_type": "markdown",
   "id": "73b56d09",
   "metadata": {},
   "source": [
    "### Hyperparameters tuning"
   ]
  },
  {
   "cell_type": "code",
   "execution_count": 18,
   "id": "dc5ebc55",
   "metadata": {},
   "outputs": [],
   "source": [
    "from tensorflow.keras.optimizers import Adam\n",
    "input_dim = X_train.shape[1]"
   ]
  },
  {
   "cell_type": "code",
   "execution_count": 19,
   "id": "d2822923",
   "metadata": {},
   "outputs": [],
   "source": [
    "def build_autoencoder(num_hidden_layers, units_per_layer, learning_rate):\n",
    "    \n",
    "    encoder_layers = [Input(shape=(input_dim,))]\n",
    "    for _ in range(num_hidden_layers):\n",
    "        encoder_layers.append(Dense(units_per_layer, activation='relu'))\n",
    "    \n",
    "    decoder_layers = [Input(shape=(units_per_layer,))]\n",
    "    for _ in range(num_hidden_layers):\n",
    "        decoder_layers.append(Dense(input_dim, activation='linear'))\n",
    "    \n",
    "    encoder = Sequential(encoder_layers)\n",
    "    decoder = Sequential(decoder_layers)\n",
    "    \n",
    "    autoencoder = Sequential([encoder, decoder])\n",
    "    \n",
    "    autoencoder.compile(optimizer=Adam(learning_rate), loss='mean_squared_error', metrics=['mae', 'accuracy'])\n",
    "    \n",
    "    return autoencoder"
   ]
  },
  {
   "cell_type": "code",
   "execution_count": null,
   "id": "e70f561d",
   "metadata": {},
   "outputs": [],
   "source": [
    "from sklearn.model_selection import GridSearchCV\n",
    "from keras.wrappers.scikit_learn import KerasRegressor\n",
    "\n",
    "# Define the hyperparameter search space\n",
    "param_grid = {\n",
    "    'num_hidden_layers': [1, 3],\n",
    "    'units_per_layer': [32, 128],\n",
    "    'learning_rate': [0.1, 0.5]\n",
    "}\n",
    "\n",
    "# Wrap the Keras model in a scikit-learn estimator\n",
    "autoencoder = KerasRegressor(build_fn=build_autoencoder, epochs=3, batch_size=64, verbose=0)\n",
    "\n",
    "# Create the GridSearchCV object\n",
    "grid_search = GridSearchCV(estimator=autoencoder, param_grid=param_grid, scoring='neg_mean_squared_error', cv=2)\n",
    "\n",
    "# Perform the hyperparameter search\n",
    "grid_search.fit(X_train, X_train)  # Use the training data as both input and target\n",
    "\n",
    "# Get the best hyperparameters and model\n",
    "best_params = grid_search.best_params_\n",
    "best_model = grid_search.best_estimator_\n"
   ]
  },
  {
   "cell_type": "code",
   "execution_count": 23,
   "id": "b4fae650",
   "metadata": {},
   "outputs": [
    {
     "name": "stdout",
     "output_type": "stream",
     "text": [
      "Best Hyperparameters:\n",
      "{'learning_rate': 0.1, 'num_hidden_layers': 1, 'units_per_layer': 32}\n"
     ]
    }
   ],
   "source": [
    "print(\"Best Hyperparameters:\")\n",
    "print(best_params)"
   ]
  },
  {
   "cell_type": "code",
   "execution_count": 31,
   "id": "6c4f1d15",
   "metadata": {},
   "outputs": [
    {
     "name": "stdout",
     "output_type": "stream",
     "text": [
      "Best Model Architecture:\n",
      "Model: \"sequential_50\"\n",
      "_________________________________________________________________\n",
      " Layer (type)                Output Shape              Param #   \n",
      "=================================================================\n",
      " sequential_48 (Sequential)  (None, 32)                256       \n",
      "                                                                 \n",
      " sequential_49 (Sequential)  (None, 7)                 231       \n",
      "                                                                 \n",
      "=================================================================\n",
      "Total params: 487\n",
      "Trainable params: 487\n",
      "Non-trainable params: 0\n",
      "_________________________________________________________________\n"
     ]
    }
   ],
   "source": [
    "print(\"Best Model Architecture:\")\n",
    "best_model.model.summary()"
   ]
  },
  {
   "cell_type": "code",
   "execution_count": null,
   "id": "91eed74d",
   "metadata": {},
   "outputs": [],
   "source": []
  }
 ],
 "metadata": {
  "kernelspec": {
   "display_name": "Python 3 (ipykernel)",
   "language": "python",
   "name": "python3"
  },
  "language_info": {
   "codemirror_mode": {
    "name": "ipython",
    "version": 3
   },
   "file_extension": ".py",
   "mimetype": "text/x-python",
   "name": "python",
   "nbconvert_exporter": "python",
   "pygments_lexer": "ipython3",
   "version": "3.10.12"
  }
 },
 "nbformat": 4,
 "nbformat_minor": 5
}
