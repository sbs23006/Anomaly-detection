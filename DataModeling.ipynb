{
 "cells": [
  {
   "cell_type": "code",
   "execution_count": 1,
   "id": "930152cf",
   "metadata": {},
   "outputs": [
    {
     "name": "stderr",
     "output_type": "stream",
     "text": [
      "2023-09-22 11:22:43.984383: W tensorflow/stream_executor/platform/default/dso_loader.cc:64] Could not load dynamic library 'libcudart.so.11.0'; dlerror: libcudart.so.11.0: cannot open shared object file: No such file or directory\n",
      "2023-09-22 11:22:43.984440: I tensorflow/stream_executor/cuda/cudart_stub.cc:29] Ignore above cudart dlerror if you do not have a GPU set up on your machine.\n"
     ]
    }
   ],
   "source": [
    "from pyspark.sql import SparkSession\n",
    "from pyspark.sql.functions import col, from_unixtime, hour, when\n",
    "import tensorflow as tf\n",
    "from tensorflow.keras.models import Sequential\n",
    "from tensorflow.keras.layers import Dense\n",
    "import matplotlib.pyplot as plt"
   ]
  },
  {
   "cell_type": "code",
   "execution_count": 2,
   "id": "0df1e981",
   "metadata": {},
   "outputs": [],
   "source": [
    "spark = SparkSession.builder.appName(\"DataModeling\").getOrCreate()"
   ]
  },
  {
   "cell_type": "code",
   "execution_count": 6,
   "id": "d2746ba7",
   "metadata": {},
   "outputs": [
    {
     "name": "stderr",
     "output_type": "stream",
     "text": [
      "                                                                                \r"
     ]
    },
    {
     "name": "stdout",
     "output_type": "stream",
     "text": [
      "CPU times: user 5.45 ms, sys: 1.51 ms, total: 6.96 ms\n",
      "Wall time: 8.89 s\n"
     ]
    }
   ],
   "source": [
    "%%time\n",
    "# Read the Parquet file into a DataFrame\n",
    "df = spark.read.parquet(\"/user1/data/parquet/*.parquet\")"
   ]
  },
  {
   "cell_type": "code",
   "execution_count": 7,
   "id": "41b67820",
   "metadata": {},
   "outputs": [
    {
     "name": "stderr",
     "output_type": "stream",
     "text": [
      "\r",
      "[Stage 1:>                                                          (0 + 1) / 1]\r"
     ]
    },
    {
     "name": "stdout",
     "output_type": "stream",
     "text": [
      "+---------+-------------------+------------+-------------------------+-------------------+------------------+-------------------+------------------+\n",
      "|square_id|timestamp          |country_code|internet_traffic_activity|hourly_timestamp   |SMS_activity      |call_activity      |weekend_or_weekday|\n",
      "+---------+-------------------+------------+-------------------------+-------------------+------------------+-------------------+------------------+\n",
      "|1        |2013-10-31 23:00:00|39          |11.028366381681026       |2013-10-31 23:00:00|0.2986512597414538|0.2132127854455914 |weekday           |\n",
      "|1        |2013-10-31 23:10:00|39          |11.100963451409388       |2013-10-31 23:00:00|0.3983777976024016|0.32241464495433614|weekday           |\n",
      "|1        |2013-10-31 23:20:00|39          |10.892770602791096       |2013-10-31 23:00:00|0.5015934573020482|0.1887771729145041 |weekday           |\n",
      "+---------+-------------------+------------+-------------------------+-------------------+------------------+-------------------+------------------+\n",
      "only showing top 3 rows\n",
      "\n"
     ]
    },
    {
     "name": "stderr",
     "output_type": "stream",
     "text": [
      "\r",
      "                                                                                \r"
     ]
    }
   ],
   "source": [
    "df.show(3, truncate=False)"
   ]
  },
  {
   "cell_type": "code",
   "execution_count": 8,
   "id": "4bb2d771",
   "metadata": {},
   "outputs": [
    {
     "name": "stdout",
     "output_type": "stream",
     "text": [
      "root\n",
      " |-- square_id: string (nullable = true)\n",
      " |-- timestamp: timestamp (nullable = true)\n",
      " |-- country_code: integer (nullable = true)\n",
      " |-- internet_traffic_activity: double (nullable = true)\n",
      " |-- hourly_timestamp: string (nullable = true)\n",
      " |-- SMS_activity: double (nullable = true)\n",
      " |-- call_activity: double (nullable = true)\n",
      " |-- weekend_or_weekday: string (nullable = true)\n",
      "\n"
     ]
    }
   ],
   "source": [
    "df.printSchema()"
   ]
  },
  {
   "cell_type": "code",
   "execution_count": 12,
   "id": "8c300a90",
   "metadata": {},
   "outputs": [
    {
     "name": "stderr",
     "output_type": "stream",
     "text": [
      "\r",
      "[Stage 6:=============================>                             (1 + 1) / 2]\r",
      "\r",
      "                                                                                \r"
     ]
    },
    {
     "data": {
      "text/plain": [
       "7516761"
      ]
     },
     "execution_count": 12,
     "metadata": {},
     "output_type": "execute_result"
    }
   ],
   "source": [
    "df.count()"
   ]
  },
  {
   "cell_type": "code",
   "execution_count": 13,
   "id": "ef650868",
   "metadata": {},
   "outputs": [
    {
     "name": "stderr",
     "output_type": "stream",
     "text": [
      "[Stage 11:================================================>         (5 + 1) / 6]\r"
     ]
    },
    {
     "name": "stdout",
     "output_type": "stream",
     "text": [
      "Count of distinct rows: 7516761\n"
     ]
    },
    {
     "name": "stderr",
     "output_type": "stream",
     "text": [
      "\r",
      "                                                                                \r"
     ]
    }
   ],
   "source": [
    "print('Count of distinct rows: {0}'.format(df.distinct().count()))"
   ]
  },
  {
   "cell_type": "code",
   "execution_count": 20,
   "id": "633fca15",
   "metadata": {},
   "outputs": [
    {
     "name": "stdout",
     "output_type": "stream",
     "text": [
      "+------------+-------+\n",
      "|country_code|  count|\n",
      "+------------+-------+\n",
      "|          45|      1|\n",
      "|          40|      1|\n",
      "|         966|      2|\n",
      "|         421|      2|\n",
      "|         353|      3|\n",
      "|         385|      3|\n",
      "|          61|      4|\n",
      "|          31|      4|\n",
      "|         356|      5|\n",
      "|          90|      6|\n",
      "|         386|      7|\n",
      "|         351|      9|\n",
      "|          43|     14|\n",
      "|          32|     15|\n",
      "|         358|     21|\n",
      "|           0|     21|\n",
      "|         213|     23|\n",
      "|          47|     42|\n",
      "|          34|     68|\n",
      "|           1|     91|\n",
      "|         420|     93|\n",
      "|          48|     98|\n",
      "|          49|    151|\n",
      "|          46|    218|\n",
      "|           7|    496|\n",
      "|          86|   1054|\n",
      "|          44|   1197|\n",
      "|          33|   1298|\n",
      "|          41|   1353|\n",
      "|          39|7510461|\n",
      "+------------+-------+\n",
      "\n"
     ]
    },
    {
     "name": "stderr",
     "output_type": "stream",
     "text": [
      "\r",
      "[Stage 27:=============================>                            (1 + 1) / 2]\r",
      "\r",
      "                                                                                \r"
     ]
    }
   ],
   "source": [
    "df.groupby('country_code').count().sort('count').show(30)"
   ]
  },
  {
   "cell_type": "code",
   "execution_count": 21,
   "id": "98c74e2a",
   "metadata": {},
   "outputs": [
    {
     "name": "stderr",
     "output_type": "stream",
     "text": [
      "[Stage 30:=============================>                            (1 + 1) / 2]\r"
     ]
    },
    {
     "name": "stdout",
     "output_type": "stream",
     "text": [
      "+-------+-------------------------+--------------------+--------------------+\n",
      "|summary|internet_traffic_activity|        SMS_activity|       call_activity|\n",
      "+-------+-------------------------+--------------------+--------------------+\n",
      "|  count|                  7516761|             7516761|             7516761|\n",
      "|   mean|        81.02824368179743|   7.151377454212734|    8.21545912479918|\n",
      "| stddev|       143.69671563945369|  14.738696897264143|  16.946580289458204|\n",
      "|    min|     4.792346910579604E-5|1.235047397115846...|4.662995399058662E-6|\n",
      "|    max|        7936.265379884158|   1211.443277333027|   532.5074148119132|\n",
      "+-------+-------------------------+--------------------+--------------------+\n",
      "\n"
     ]
    },
    {
     "name": "stderr",
     "output_type": "stream",
     "text": [
      "\r",
      "                                                                                \r"
     ]
    }
   ],
   "source": [
    "# numerical stat\n",
    "df.describe(['internet_traffic_activity', 'SMS_activity', 'call_activity']).show()"
   ]
  },
  {
   "cell_type": "code",
   "execution_count": null,
   "id": "d6daa1af",
   "metadata": {},
   "outputs": [
    {
     "name": "stderr",
     "output_type": "stream",
     "text": [
      "                                                                                \r"
     ]
    }
   ],
   "source": [
    "df.select(['internet_traffic_activity', 'SMS_activity', 'call_activity']).toPandas().hist()\n",
    "plt.show()"
   ]
  },
  {
   "cell_type": "code",
   "execution_count": 26,
   "id": "93ceef24",
   "metadata": {},
   "outputs": [],
   "source": [
    "from pyspark.sql.functions import col\n",
    "\n",
    "df = df.withColumn(\"square_id\", col(\"square_id\").cast(\"integer\"))"
   ]
  },
  {
   "cell_type": "code",
   "execution_count": 27,
   "id": "9d7ea3b8",
   "metadata": {},
   "outputs": [
    {
     "name": "stderr",
     "output_type": "stream",
     "text": [
      "                                                                                \r"
     ]
    },
    {
     "data": {
      "text/plain": [
       "[[1.0, 0.1415706480958958, 0.12647822181687138, 0.12565426847843994],\n",
       " [None, 1.0, 0.878947619397343, 0.8444776822637831],\n",
       " [None, None, 1.0, 0.8929825876389413],\n",
       " [None, None, None, 1.0]]"
      ]
     },
     "execution_count": 27,
     "metadata": {},
     "output_type": "execute_result"
    }
   ],
   "source": [
    "# correlation\n",
    "features = ['square_id', 'internet_traffic_activity', 'SMS_activity', 'call_activity']\n",
    "n = len(features)\n",
    "\n",
    "corr = []\n",
    "\n",
    "for i in range(0, n):\n",
    "    temp = [None]*i\n",
    "    \n",
    "    for j in range(i, n):\n",
    "        temp.append(df.corr(features[i], features[j]))\n",
    "    corr.append(temp)\n",
    "    \n",
    "corr"
   ]
  },
  {
   "cell_type": "code",
   "execution_count": 34,
   "id": "30404494",
   "metadata": {},
   "outputs": [
    {
     "name": "stderr",
     "output_type": "stream",
     "text": [
      "\r",
      "[Stage 49:>                                                         (0 + 1) / 1]\r"
     ]
    },
    {
     "name": "stdout",
     "output_type": "stream",
     "text": [
      "+---------+-------------------+------------+-------------------------+-------------------+--------------------+--------------------+------------------+-----------+-----------+\n",
      "|square_id|          timestamp|country_code|internet_traffic_activity|   hourly_timestamp|        SMS_activity|       call_activity|weekend_or_weekday|hour_of_day|time_of_day|\n",
      "+---------+-------------------+------------+-------------------------+-------------------+--------------------+--------------------+------------------+-----------+-----------+\n",
      "|        1|2013-10-31 23:00:00|          39|       11.028366381681026|2013-10-31 23:00:00|  0.2986512597414538|  0.2132127854455914|           weekday|         23|      night|\n",
      "|        1|2013-10-31 23:10:00|          39|       11.100963451409388|2013-10-31 23:00:00|  0.3983777976024016| 0.32241464495433614|           weekday|         23|      night|\n",
      "|        1|2013-10-31 23:20:00|          39|       10.892770602791096|2013-10-31 23:00:00|  0.5015934573020482|  0.1887771729145041|           weekday|         23|      night|\n",
      "|        1|2013-10-31 23:30:00|          39|        8.622424590989748|2013-10-31 23:00:00|  0.9022493783046439| 0.08073835401865896|           weekday|         23|      night|\n",
      "|        1|2013-10-31 23:40:00|          39|        8.009927462445756|2013-10-31 23:00:00| 0.43626866691467914| 0.13417624316013174|           weekday|         23|      night|\n",
      "|        1|2013-10-31 23:50:00|          39|          8.1184195540896|2013-10-31 23:00:00|  0.2997663425287483| 0.05460092975437236|           weekday|         23|      night|\n",
      "|        1|2013-11-01 00:00:00|          39|        8.026269748512151|2013-11-01 00:00:00| 0.22027652749528903|0.055225199246972216|           weekend|          0|      night|\n",
      "|        1|2013-11-01 00:10:00|          39|        8.514178577183893|2013-11-01 00:00:00| 0.21491459717879072|  0.0563882398598718|           weekend|          0|      night|\n",
      "|        1|2013-11-01 00:20:00|          39|       6.8334248963840505|2013-11-01 00:00:00|  0.4025287294803952| 0.13417624316013174|           weekend|          0|      night|\n",
      "|        1|2013-11-01 00:30:00|          39|         6.55460504454769|2013-11-01 00:00:00|  0.5401940944792257| 0.10803881889584514|           weekend|          0|      night|\n",
      "|        1|2013-11-01 04:00:00|          39|        6.085673982439326|2013-11-01 04:00:00| 0.05406215863407264|0.052274848528573205|           weekend|          4|      night|\n",
      "|        1|2013-11-01 05:50:00|          39|        5.957483939088293|2013-11-01 05:00:00| 0.10571273767004599| 0.10454969705714641|           weekend|          5|      night|\n",
      "|        1|2013-11-01 06:00:00|          39|        6.640460593426143|2013-11-01 06:00:00| 0.14016244296922992| 0.13417624316013174|           weekday|          6|    morning|\n",
      "|        1|2013-11-01 06:10:00|          39|       7.0092000852653635|2013-11-01 06:00:00|0.029087774982685617| 0.15977489630411862|           weekday|          6|    morning|\n",
      "|        1|2013-11-01 06:20:00|          39|        6.160143860645488|2013-11-01 06:00:00| 0.13658782275823106| 0.08314993361675826|           weekday|          6|    morning|\n",
      "|        1|2013-11-01 06:30:00|          39|         7.79788947727326|2013-11-01 06:00:00| 0.19413910323100242| 0.11161343910684401|           weekday|          6|    morning|\n",
      "|        1|2013-11-01 06:40:00|          39|        7.309884732950306|2013-11-01 06:00:00|  0.1894869407794041| 0.14007694459692976|           weekday|          6|    morning|\n",
      "|        1|2013-11-01 06:50:00|          39|         8.01592542191505|2013-11-01 06:00:00| 0.13658782275823106| 0.10928735788104485|           weekday|          6|    morning|\n",
      "|        1|2013-11-01 07:00:00|          39|        9.431191468740728|2013-11-01 07:00:00|  0.6959890556499511| 0.18591232056840523|           weekday|          7|    morning|\n",
      "|        1|2013-11-01 07:10:00|          39|         9.08251636060311|2013-11-01 07:00:00| 0.21621109398959554|   0.400826917747196|           weekday|          7|    morning|\n",
      "+---------+-------------------+------------+-------------------------+-------------------+--------------------+--------------------+------------------+-----------+-----------+\n",
      "only showing top 20 rows\n",
      "\n"
     ]
    },
    {
     "name": "stderr",
     "output_type": "stream",
     "text": [
      "\r",
      "                                                                                \r"
     ]
    }
   ],
   "source": [
    "# transform timestamp into categorical values\n",
    "from pyspark.sql.functions import hour\n",
    "from pyspark.sql.functions import udf\n",
    "\n",
    "df = df.withColumn('hour_of_day', hour(df.timestamp))\n",
    "\n",
    "def categorize_hour(hour):\n",
    "    if 6 <= hour < 12:\n",
    "        return 'morning'\n",
    "    elif 12 <= hour < 15:\n",
    "        return 'lunch'\n",
    "    elif 15 <= hour < 18:\n",
    "        return 'afternoon'\n",
    "    elif 18 <= hour < 22:\n",
    "        return 'evening'\n",
    "    else:\n",
    "        return 'night'\n",
    "    \n",
    "# Apply the UDF to create a new column with categorical values\n",
    "categorize_hour_udf = udf(categorize_hour)\n",
    "df = df.withColumn('time_of_day', categorize_hour_udf(df.hour_of_day))\n",
    "\n",
    "# Show the transformed DataFrame\n",
    "df.show()"
   ]
  },
  {
   "cell_type": "code",
   "execution_count": 35,
   "id": "693d6096",
   "metadata": {
    "scrolled": true
   },
   "outputs": [
    {
     "name": "stderr",
     "output_type": "stream",
     "text": [
      "                                                                                \r"
     ]
    },
    {
     "data": {
      "image/png": "[encoded data removed]",
      "text/plain": [
       "<Figure size 432x288 with 1 Axes>"
      ]
     },
     "metadata": {
      "needs_background": "light"
     },
     "output_type": "display_data"
    }
   ],
   "source": [
    "# Group the data by time_of_day and aggregate the average of each activity\n",
    "activity_by_time_of_day = df.groupBy('time_of_day').agg({'SMS_activity': 'avg', 'call_activity': 'avg', 'internet_traffic_activity': 'avg'})\n",
    "\n",
    "# Convert the DataFrame to a Pandas DataFrame for plotting\n",
    "activity_by_time_of_day_pd = activity_by_time_of_day.toPandas()\n",
    "\n",
    "# Plot the average volume of each activity per time_of_day\n",
    "activity_by_time_of_day_pd.plot(kind='bar', x='time_of_day', y=['avg(SMS_activity)', 'avg(call_activity)', 'avg(internet_traffic_activity)'])\n",
    "plt.xlabel('Time of Day')\n",
    "plt.ylabel('Average Volume')\n",
    "plt.show()"
   ]
  },
  {
   "cell_type": "code",
   "execution_count": 38,
   "id": "e59ade3c",
   "metadata": {},
   "outputs": [
    {
     "name": "stderr",
     "output_type": "stream",
     "text": [
      "[Stage 69:>                                                         (0 + 1) / 1]\r"
     ]
    },
    {
     "name": "stdout",
     "output_type": "stream",
     "text": [
      "+---------+-------------------+------------+-------------------------+-------------------+--------------------+--------------------+------------------+-----------+-----------+------------------------+-----------------+--------------------------+-------------------+\n",
      "|square_id|          timestamp|country_code|internet_traffic_activity|   hourly_timestamp|        SMS_activity|       call_activity|weekend_or_weekday|hour_of_day|time_of_day|weekend_or_weekday_index|time_of_day_index|weekend_or_weekday_encoded|time_of_day_encoded|\n",
      "+---------+-------------------+------------+-------------------------+-------------------+--------------------+--------------------+------------------+-----------+-----------+------------------------+-----------------+--------------------------+-------------------+\n",
      "|        1|2013-10-31 23:00:00|          39|       11.028366381681026|2013-10-31 23:00:00|  0.2986512597414538|  0.2132127854455914|           weekday|         23|      night|                     0.0|              4.0|             (1,[0],[1.0])|          (4,[],[])|\n",
      "|        1|2013-10-31 23:10:00|          39|       11.100963451409388|2013-10-31 23:00:00|  0.3983777976024016| 0.32241464495433614|           weekday|         23|      night|                     0.0|              4.0|             (1,[0],[1.0])|          (4,[],[])|\n",
      "|        1|2013-10-31 23:20:00|          39|       10.892770602791096|2013-10-31 23:00:00|  0.5015934573020482|  0.1887771729145041|           weekday|         23|      night|                     0.0|              4.0|             (1,[0],[1.0])|          (4,[],[])|\n",
      "|        1|2013-10-31 23:30:00|          39|        8.622424590989748|2013-10-31 23:00:00|  0.9022493783046439| 0.08073835401865896|           weekday|         23|      night|                     0.0|              4.0|             (1,[0],[1.0])|          (4,[],[])|\n",
      "|        1|2013-10-31 23:40:00|          39|        8.009927462445756|2013-10-31 23:00:00| 0.43626866691467914| 0.13417624316013174|           weekday|         23|      night|                     0.0|              4.0|             (1,[0],[1.0])|          (4,[],[])|\n",
      "|        1|2013-10-31 23:50:00|          39|          8.1184195540896|2013-10-31 23:00:00|  0.2997663425287483| 0.05460092975437236|           weekday|         23|      night|                     0.0|              4.0|             (1,[0],[1.0])|          (4,[],[])|\n",
      "|        1|2013-11-01 00:00:00|          39|        8.026269748512151|2013-11-01 00:00:00| 0.22027652749528903|0.055225199246972216|           weekend|          0|      night|                     1.0|              4.0|                 (1,[],[])|          (4,[],[])|\n",
      "|        1|2013-11-01 00:10:00|          39|        8.514178577183893|2013-11-01 00:00:00| 0.21491459717879072|  0.0563882398598718|           weekend|          0|      night|                     1.0|              4.0|                 (1,[],[])|          (4,[],[])|\n",
      "|        1|2013-11-01 00:20:00|          39|       6.8334248963840505|2013-11-01 00:00:00|  0.4025287294803952| 0.13417624316013174|           weekend|          0|      night|                     1.0|              4.0|                 (1,[],[])|          (4,[],[])|\n",
      "|        1|2013-11-01 00:30:00|          39|         6.55460504454769|2013-11-01 00:00:00|  0.5401940944792257| 0.10803881889584514|           weekend|          0|      night|                     1.0|              4.0|                 (1,[],[])|          (4,[],[])|\n",
      "|        1|2013-11-01 04:00:00|          39|        6.085673982439326|2013-11-01 04:00:00| 0.05406215863407264|0.052274848528573205|           weekend|          4|      night|                     1.0|              4.0|                 (1,[],[])|          (4,[],[])|\n",
      "|        1|2013-11-01 05:50:00|          39|        5.957483939088293|2013-11-01 05:00:00| 0.10571273767004599| 0.10454969705714641|           weekend|          5|      night|                     1.0|              4.0|                 (1,[],[])|          (4,[],[])|\n",
      "|        1|2013-11-01 06:00:00|          39|        6.640460593426143|2013-11-01 06:00:00| 0.14016244296922992| 0.13417624316013174|           weekday|          6|    morning|                     0.0|              0.0|             (1,[0],[1.0])|      (4,[0],[1.0])|\n",
      "|        1|2013-11-01 06:10:00|          39|       7.0092000852653635|2013-11-01 06:00:00|0.029087774982685617| 0.15977489630411862|           weekday|          6|    morning|                     0.0|              0.0|             (1,[0],[1.0])|      (4,[0],[1.0])|\n",
      "|        1|2013-11-01 06:20:00|          39|        6.160143860645488|2013-11-01 06:00:00| 0.13658782275823106| 0.08314993361675826|           weekday|          6|    morning|                     0.0|              0.0|             (1,[0],[1.0])|      (4,[0],[1.0])|\n",
      "|        1|2013-11-01 06:30:00|          39|         7.79788947727326|2013-11-01 06:00:00| 0.19413910323100242| 0.11161343910684401|           weekday|          6|    morning|                     0.0|              0.0|             (1,[0],[1.0])|      (4,[0],[1.0])|\n",
      "|        1|2013-11-01 06:40:00|          39|        7.309884732950306|2013-11-01 06:00:00|  0.1894869407794041| 0.14007694459692976|           weekday|          6|    morning|                     0.0|              0.0|             (1,[0],[1.0])|      (4,[0],[1.0])|\n",
      "|        1|2013-11-01 06:50:00|          39|         8.01592542191505|2013-11-01 06:00:00| 0.13658782275823106| 0.10928735788104485|           weekday|          6|    morning|                     0.0|              0.0|             (1,[0],[1.0])|      (4,[0],[1.0])|\n",
      "|        1|2013-11-01 07:00:00|          39|        9.431191468740728|2013-11-01 07:00:00|  0.6959890556499511| 0.18591232056840523|           weekday|          7|    morning|                     0.0|              0.0|             (1,[0],[1.0])|      (4,[0],[1.0])|\n",
      "|        1|2013-11-01 07:10:00|          39|         9.08251636060311|2013-11-01 07:00:00| 0.21621109398959554|   0.400826917747196|           weekday|          7|    morning|                     0.0|              0.0|             (1,[0],[1.0])|      (4,[0],[1.0])|\n",
      "+---------+-------------------+------------+-------------------------+-------------------+--------------------+--------------------+------------------+-----------+-----------+------------------------+-----------------+--------------------------+-------------------+\n",
      "only showing top 20 rows\n",
      "\n"
     ]
    },
    {
     "name": "stderr",
     "output_type": "stream",
     "text": [
      "\r",
      "                                                                                \r"
     ]
    }
   ],
   "source": [
    "#preparing for modeling (cat values, scaling, splitting)\n",
    "# handle categorical values\n",
    "\n",
    "from pyspark.ml.feature import StringIndexer,OneHotEncoder\n",
    "\n",
    "indexer1 = StringIndexer(inputCol='weekend_or_weekday', outputCol='weekend_or_weekday_index')\n",
    "indexed1 = indexer1.fit(df).transform(df)\n",
    "\n",
    "indexer2 = StringIndexer(inputCol='time_of_day', outputCol='time_of_day_index')\n",
    "indexed2 = indexer2.fit(indexed1).transform(indexed1)\n",
    "\n",
    "encoder = OneHotEncoder(inputCols=['weekend_or_weekday_index', 'time_of_day_index'], outputCols=['weekend_or_weekday_encoded', 'time_of_day_encoded'])\n",
    "encoded = encoder.fit(indexed2).transform(indexed2)\n",
    "\n",
    "encoded.show()"
   ]
  },
  {
   "cell_type": "code",
   "execution_count": 39,
   "id": "7f635171",
   "metadata": {},
   "outputs": [
    {
     "name": "stdout",
     "output_type": "stream",
     "text": [
      "root\n",
      " |-- square_id: integer (nullable = true)\n",
      " |-- timestamp: timestamp (nullable = true)\n",
      " |-- country_code: integer (nullable = true)\n",
      " |-- internet_traffic_activity: double (nullable = true)\n",
      " |-- hourly_timestamp: string (nullable = true)\n",
      " |-- SMS_activity: double (nullable = true)\n",
      " |-- call_activity: double (nullable = true)\n",
      " |-- weekend_or_weekday: string (nullable = true)\n",
      " |-- hour_of_day: integer (nullable = true)\n",
      " |-- time_of_day: string (nullable = true)\n",
      " |-- weekend_or_weekday_index: double (nullable = false)\n",
      " |-- time_of_day_index: double (nullable = false)\n",
      " |-- weekend_or_weekday_encoded: vector (nullable = true)\n",
      " |-- time_of_day_encoded: vector (nullable = true)\n",
      "\n"
     ]
    }
   ],
   "source": [
    "# dropping values not needed for the model\n",
    "encoded.printSchema()"
   ]
  },
  {
   "cell_type": "code",
   "execution_count": 41,
   "id": "50512ed5",
   "metadata": {},
   "outputs": [],
   "source": [
    "encoded = encoded.drop('timestamp', 'hour_of_day', 'time_of_day', 'weekend_or_weekday', 'weekend_or_weekday_index', 'time_of_day_index', 'hourly_timestamp')"
   ]
  },
  {
   "cell_type": "code",
   "execution_count": 44,
   "id": "6add4469",
   "metadata": {},
   "outputs": [
    {
     "name": "stdout",
     "output_type": "stream",
     "text": [
      "root\n",
      " |-- square_id: integer (nullable = true)\n",
      " |-- country_code: integer (nullable = true)\n",
      " |-- internet_traffic_activity: double (nullable = true)\n",
      " |-- SMS_activity: double (nullable = true)\n",
      " |-- call_activity: double (nullable = true)\n",
      " |-- weekend_or_weekday_encoded: vector (nullable = true)\n",
      " |-- time_of_day_encoded: vector (nullable = true)\n",
      "\n"
     ]
    }
   ],
   "source": [
    "encoded.printSchema()"
   ]
  },
  {
   "cell_type": "code",
   "execution_count": 45,
   "id": "5f30a709",
   "metadata": {},
   "outputs": [],
   "source": [
    "# data is now ready for the model"
   ]
  },
  {
   "cell_type": "code",
   "execution_count": null,
   "id": "1bca607b",
   "metadata": {},
   "outputs": [],
   "source": []
  }
 ],
 "metadata": {
  "kernelspec": {
   "display_name": "Python 3 (ipykernel)",
   "language": "python",
   "name": "python3"
  },
  "language_info": {
   "codemirror_mode": {
    "name": "ipython",
    "version": 3
   },
   "file_extension": ".py",
   "mimetype": "text/x-python",
   "name": "python",
   "nbconvert_exporter": "python",
   "pygments_lexer": "ipython3",
   "version": "3.10.12"
  }
 },
 "nbformat": 4,
 "nbformat_minor": 5
}
