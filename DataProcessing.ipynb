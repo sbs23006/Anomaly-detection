{
 "cells": [
  {
   "cell_type": "code",
   "execution_count": 2,
   "id": "4dc78d1d",
   "metadata": {},
   "outputs": [
    {
     "name": "stderr",
     "output_type": "stream",
     "text": [
      "2023-09-22 17:41:12.057280: W tensorflow/stream_executor/platform/default/dso_loader.cc:64] Could not load dynamic library 'libcudart.so.11.0'; dlerror: libcudart.so.11.0: cannot open shared object file: No such file or directory\n",
      "2023-09-22 17:41:12.057321: I tensorflow/stream_executor/cuda/cudart_stub.cc:29] Ignore above cudart dlerror if you do not have a GPU set up on your machine.\n"
     ]
    }
   ],
   "source": [
    "from pyspark.sql import SparkSession\n",
    "from pyspark.sql.functions import col, from_unixtime, hour, when\n",
    "import tensorflow as tf\n",
    "from tensorflow.keras.models import Sequential\n",
    "from tensorflow.keras.layers import Dense\n",
    "import matplotlib.pyplot as plt\n",
    "from pyspark.sql.functions import avg\n",
    "from pyspark.sql.functions import split, unix_timestamp, col, sum"
   ]
  },
  {
   "cell_type": "code",
   "execution_count": 3,
   "id": "2a5c2052",
   "metadata": {},
   "outputs": [],
   "source": [
    "# Load the data\n",
    "\n",
    "spark = SparkSession.builder.appName(\"TelecomActivityPreprocessing\").getOrCreate()\n",
    "data = spark.read.text(\"/user1/data/*.txt\")"
   ]
  },
  {
   "cell_type": "code",
   "execution_count": 4,
   "id": "cf5e09ca",
   "metadata": {},
   "outputs": [
    {
     "name": "stderr",
     "output_type": "stream",
     "text": [
      "                                                                                \r"
     ]
    },
    {
     "name": "stdout",
     "output_type": "stream",
     "text": [
      "+----------------------------------------------------------------------------------------------------------------------------+\n",
      "|value                                                                                                                       |\n",
      "+----------------------------------------------------------------------------------------------------------------------------+\n",
      "|1\\t1383260400000\\t0\\t0.08136262351125882\\t\\t\\t\\t                                                                            |\n",
      "|1\\t1383260400000\\t39\\t0.14186425470242922\\t0.1567870050390246\\t0.16093793691701822\\t0.052274848528573205\\t11.028366381681026|\n",
      "|1\\t1383261000000\\t0\\t0.13658782275823106\\t\\t\\t0.02730046487718618\\t                                                         |\n",
      "+----------------------------------------------------------------------------------------------------------------------------+\n",
      "only showing top 3 rows\n",
      "\n"
     ]
    }
   ],
   "source": [
    "data.show(3, truncate=False)"
   ]
  },
  {
   "cell_type": "code",
   "execution_count": 5,
   "id": "bd6ec430",
   "metadata": {},
   "outputs": [],
   "source": [
    "# Remove lines with empty fields\n",
    "data1 = data.filter((col(\"value\").rlike(r\"\\S\")) & (col(\"value\").rlike(r\"\\S+\\s\\S+\\s\\S+\\s\\S+\\s\\S+\\s\\S+\\s\\S+\\s\\S+\")))"
   ]
  },
  {
   "cell_type": "code",
   "execution_count": 6,
   "id": "6c077843",
   "metadata": {},
   "outputs": [
    {
     "name": "stdout",
     "output_type": "stream",
     "text": [
      "+----------------------------------------------------------------------------------------------------------------------------+\n",
      "|value                                                                                                                       |\n",
      "+----------------------------------------------------------------------------------------------------------------------------+\n",
      "|1\\t1383260400000\\t39\\t0.14186425470242922\\t0.1567870050390246\\t0.16093793691701822\\t0.052274848528573205\\t11.028366381681026|\n",
      "|1\\t1383261000000\\t39\\t0.27845207746066025\\t0.11992572014174135\\t0.1887771729145041\\t0.13363747203983203\\t11.100963451409388 |\n",
      "|1\\t1383261600000\\t39\\t0.3306414276169333\\t0.1709520296851148\\t0.13417624316013174\\t0.05460092975437236\\t10.892770602791096  |\n",
      "+----------------------------------------------------------------------------------------------------------------------------+\n",
      "only showing top 3 rows\n",
      "\n"
     ]
    }
   ],
   "source": [
    "data1.show(3, truncate=False)"
   ]
  },
  {
   "cell_type": "code",
   "execution_count": 7,
   "id": "7997abb6",
   "metadata": {},
   "outputs": [],
   "source": [
    "data1 = data1.withColumn(\"columns\", split(col(\"value\"), \"\\t\")) \\\n",
    "    .select(\n",
    "        col(\"columns\").getItem(0).alias(\"square_id\"),\n",
    "        (col(\"columns\").getItem(1).cast(\"bigint\") / 1000).cast(\"timestamp\").alias(\"timestamp\"),\n",
    "        col(\"columns\").getItem(2).cast(\"int\").alias(\"country_code\"),\n",
    "        col(\"columns\").getItem(3).cast(\"double\").alias(\"sms_in_activity\"),\n",
    "        col(\"columns\").getItem(4).cast(\"double\").alias(\"sms_out_activity\"),\n",
    "        col(\"columns\").getItem(5).cast(\"double\").alias(\"call_in_activity\"),\n",
    "        col(\"columns\").getItem(6).cast(\"double\").alias(\"call_out_activity\"),\n",
    "        col(\"columns\").getItem(7).cast(\"double\").alias(\"internet_traffic_activity\")\n",
    "    )"
   ]
  },
  {
   "cell_type": "code",
   "execution_count": 8,
   "id": "36780467",
   "metadata": {},
   "outputs": [
    {
     "name": "stdout",
     "output_type": "stream",
     "text": [
      "root\n",
      " |-- square_id: string (nullable = true)\n",
      " |-- timestamp: timestamp (nullable = true)\n",
      " |-- country_code: integer (nullable = true)\n",
      " |-- sms_in_activity: double (nullable = true)\n",
      " |-- sms_out_activity: double (nullable = true)\n",
      " |-- call_in_activity: double (nullable = true)\n",
      " |-- call_out_activity: double (nullable = true)\n",
      " |-- internet_traffic_activity: double (nullable = true)\n",
      "\n"
     ]
    }
   ],
   "source": [
    "data1.printSchema()"
   ]
  },
  {
   "cell_type": "code",
   "execution_count": 9,
   "id": "e1744195",
   "metadata": {},
   "outputs": [
    {
     "name": "stdout",
     "output_type": "stream",
     "text": [
      "+---------+-------------------+------------+-------------------+-------------------+-------------------+--------------------+-------------------------+\n",
      "|square_id|timestamp          |country_code|sms_in_activity    |sms_out_activity   |call_in_activity   |call_out_activity   |internet_traffic_activity|\n",
      "+---------+-------------------+------------+-------------------+-------------------+-------------------+--------------------+-------------------------+\n",
      "|1        |2013-10-31 23:00:00|39          |0.14186425470242922|0.1567870050390246 |0.16093793691701822|0.052274848528573205|11.028366381681026       |\n",
      "|1        |2013-10-31 23:10:00|39          |0.27845207746066025|0.11992572014174135|0.1887771729145041 |0.13363747203983203 |11.100963451409388       |\n",
      "|1        |2013-10-31 23:20:00|39          |0.3306414276169333 |0.1709520296851148 |0.13417624316013174|0.05460092975437236 |10.892770602791096       |\n",
      "+---------+-------------------+------------+-------------------+-------------------+-------------------+--------------------+-------------------------+\n",
      "only showing top 3 rows\n",
      "\n"
     ]
    }
   ],
   "source": [
    "data1.show(3, truncate=False)"
   ]
  },
  {
   "cell_type": "code",
   "execution_count": 10,
   "id": "61675cb5",
   "metadata": {},
   "outputs": [],
   "source": [
    "# Sum the data from the current 10-minute interval to 1-hour based on the timestamp\n",
    "data1 = data1.withColumn(\n",
    "    \"hourly_timestamp\",\n",
    "    from_unixtime((unix_timestamp(col(\"timestamp\")) / 3600).cast(\"bigint\") * 3600)\n",
    ")"
   ]
  },
  {
   "cell_type": "code",
   "execution_count": 11,
   "id": "720d92a7",
   "metadata": {},
   "outputs": [
    {
     "name": "stdout",
     "output_type": "stream",
     "text": [
      "root\n",
      " |-- square_id: string (nullable = true)\n",
      " |-- timestamp: timestamp (nullable = true)\n",
      " |-- country_code: integer (nullable = true)\n",
      " |-- sms_in_activity: double (nullable = true)\n",
      " |-- sms_out_activity: double (nullable = true)\n",
      " |-- call_in_activity: double (nullable = true)\n",
      " |-- call_out_activity: double (nullable = true)\n",
      " |-- internet_traffic_activity: double (nullable = true)\n",
      " |-- hourly_timestamp: string (nullable = true)\n",
      "\n"
     ]
    }
   ],
   "source": [
    "data1.printSchema()"
   ]
  },
  {
   "cell_type": "code",
   "execution_count": 12,
   "id": "677081d0",
   "metadata": {},
   "outputs": [],
   "source": [
    "# let's reduce the dataframe size summarizing SMS and call data\n",
    "from pyspark.sql import functions as F\n",
    "\n",
    "data1 = data1.withColumn('SMS_activity', F.col('sms_in_activity') + F.col('sms_out_activity'))\n",
    "data1 = data1.withColumn('call_activity', F.col('call_in_activity') + F.col('call_out_activity'))"
   ]
  },
  {
   "cell_type": "code",
   "execution_count": 13,
   "id": "af2d621b",
   "metadata": {},
   "outputs": [],
   "source": [
    "# Add a column 'weekend_or_weekday'\n",
    "data1 = data1.withColumn(\n",
    "    \"weekend_or_weekday\",\n",
    "    when(hour(col(\"hourly_timestamp\")).between(0, 5), \"weekend\").otherwise(\"weekday\")\n",
    ")"
   ]
  },
  {
   "cell_type": "code",
   "execution_count": 14,
   "id": "ea24cc01",
   "metadata": {},
   "outputs": [
    {
     "name": "stdout",
     "output_type": "stream",
     "text": [
      "root\n",
      " |-- square_id: string (nullable = true)\n",
      " |-- timestamp: timestamp (nullable = true)\n",
      " |-- country_code: integer (nullable = true)\n",
      " |-- sms_in_activity: double (nullable = true)\n",
      " |-- sms_out_activity: double (nullable = true)\n",
      " |-- call_in_activity: double (nullable = true)\n",
      " |-- call_out_activity: double (nullable = true)\n",
      " |-- internet_traffic_activity: double (nullable = true)\n",
      " |-- hourly_timestamp: string (nullable = true)\n",
      " |-- SMS_activity: double (nullable = true)\n",
      " |-- call_activity: double (nullable = true)\n",
      " |-- weekend_or_weekday: string (nullable = false)\n",
      "\n"
     ]
    }
   ],
   "source": [
    "data1.printSchema()"
   ]
  },
  {
   "cell_type": "code",
   "execution_count": 15,
   "id": "ec6ff9f3",
   "metadata": {},
   "outputs": [],
   "source": [
    "data1 = data1.drop('sms_in_activity', 'sms_out_activity', 'call_in_activity', 'call_out_activity')"
   ]
  },
  {
   "cell_type": "code",
   "execution_count": 16,
   "id": "f3a1c78c",
   "metadata": {},
   "outputs": [
    {
     "name": "stdout",
     "output_type": "stream",
     "text": [
      "DataFrame[square_id: string, timestamp: timestamp, country_code: int, internet_traffic_activity: double, hourly_timestamp: string, SMS_activity: double, call_activity: double, weekend_or_weekday: string]\n"
     ]
    }
   ],
   "source": [
    "print(data1.select(\"*\"))"
   ]
  },
  {
   "cell_type": "code",
   "execution_count": 17,
   "id": "47a49f5d",
   "metadata": {},
   "outputs": [
    {
     "name": "stdout",
     "output_type": "stream",
     "text": [
      "root\n",
      " |-- square_id: string (nullable = true)\n",
      " |-- timestamp: timestamp (nullable = true)\n",
      " |-- country_code: integer (nullable = true)\n",
      " |-- internet_traffic_activity: double (nullable = true)\n",
      " |-- hourly_timestamp: string (nullable = true)\n",
      " |-- SMS_activity: double (nullable = true)\n",
      " |-- call_activity: double (nullable = true)\n",
      " |-- weekend_or_weekday: string (nullable = false)\n",
      "\n"
     ]
    }
   ],
   "source": [
    "data1.printSchema()"
   ]
  },
  {
   "cell_type": "code",
   "execution_count": 104,
   "id": "aee8b703",
   "metadata": {},
   "outputs": [
    {
     "name": "stderr",
     "output_type": "stream",
     "text": [
      "                                                                                \r"
     ]
    }
   ],
   "source": [
    "# exporting data\n",
    "data1.write.parquet(\"/user1/data/parquet\")"
   ]
  },
  {
   "cell_type": "code",
   "execution_count": 105,
   "id": "f9198a7f",
   "metadata": {},
   "outputs": [
    {
     "name": "stderr",
     "output_type": "stream",
     "text": [
      "                                                                                \r"
     ]
    }
   ],
   "source": [
    "data1.write.csv(\"/user1/data/csv\")"
   ]
  },
  {
   "cell_type": "markdown",
   "id": "96b59c95",
   "metadata": {},
   "source": [
    "### Performance comparison"
   ]
  },
  {
   "cell_type": "markdown",
   "id": "c98c3000",
   "metadata": {},
   "source": [
    "#### Reading performances"
   ]
  },
  {
   "cell_type": "code",
   "execution_count": 6,
   "id": "2810f4a3",
   "metadata": {},
   "outputs": [
    {
     "name": "stdout",
     "output_type": "stream",
     "text": [
      "CPU times: user 2.14 ms, sys: 3.61 ms, total: 5.75 ms\n",
      "Wall time: 4.76 s\n"
     ]
    }
   ],
   "source": [
    "%%time\n",
    "# txt\n",
    "data_txt = spark.read.text(\"/user1/data/*.txt\")"
   ]
  },
  {
   "cell_type": "code",
   "execution_count": 7,
   "id": "4d343c92",
   "metadata": {},
   "outputs": [
    {
     "name": "stderr",
     "output_type": "stream",
     "text": [
      "\r",
      "[Stage 0:>                                                          (0 + 0) / 1]\r",
      "\r",
      "[Stage 0:>                                                          (0 + 1) / 1]\r"
     ]
    },
    {
     "name": "stdout",
     "output_type": "stream",
     "text": [
      "CPU times: user 2.93 ms, sys: 3.92 ms, total: 6.85 ms\n",
      "Wall time: 3.45 s\n"
     ]
    },
    {
     "name": "stderr",
     "output_type": "stream",
     "text": [
      "\r",
      "                                                                                \r"
     ]
    }
   ],
   "source": [
    "%%time\n",
    "# parquet\n",
    "data_pq = spark.read.parquet(\"/user1/data/parquet/*.parquet\")"
   ]
  },
  {
   "cell_type": "code",
   "execution_count": 8,
   "id": "d154f684",
   "metadata": {},
   "outputs": [
    {
     "name": "stdout",
     "output_type": "stream",
     "text": [
      "CPU times: user 3.5 ms, sys: 0 ns, total: 3.5 ms\n",
      "Wall time: 3.2 s\n"
     ]
    }
   ],
   "source": [
    "%%time\n",
    "data_csv = spark.read.csv(\"/user1/data/csv/*.csv\")"
   ]
  },
  {
   "cell_type": "markdown",
   "id": "61c9ec8a",
   "metadata": {},
   "source": [
    "#### Data manipulation"
   ]
  },
  {
   "cell_type": "code",
   "execution_count": 3,
   "id": "caa90e91",
   "metadata": {},
   "outputs": [],
   "source": [
    "def avg_agg(df_input):\n",
    "    summary = df_input.groupBy('weekend_or_weekday').agg(avg('SMS_activity').alias('Average_SMS_activity'), avg('call_activity').alias('Average_Call_activity'), avg('internet_traffic_activity').alias('Average_Internet_traffic_activity'))\n",
    "    summary.show(5)"
   ]
  },
  {
   "cell_type": "code",
   "execution_count": 4,
   "id": "7abb77be",
   "metadata": {},
   "outputs": [],
   "source": [
    "def avg_count_sort(df_input):\n",
    "    df_input.groupby('country_code').count().sort('count').show(5)"
   ]
  },
  {
   "cell_type": "code",
   "execution_count": null,
   "id": "b23d5b86",
   "metadata": {},
   "outputs": [],
   "source": [
    "def toPandas_plot(df_input)"
   ]
  },
  {
   "cell_type": "code",
   "execution_count": 22,
   "id": "6d9cfb6c",
   "metadata": {},
   "outputs": [
    {
     "name": "stderr",
     "output_type": "stream",
     "text": [
      "\r",
      "[Stage 3:>                                                          (0 + 2) / 2]\r"
     ]
    },
    {
     "name": "stdout",
     "output_type": "stream",
     "text": [
      "+------------------+--------------------+---------------------+---------------------------------+\n",
      "|weekend_or_weekday|Average_SMS_activity|Average_Call_activity|Average_Internet_traffic_activity|\n",
      "+------------------+--------------------+---------------------+---------------------------------+\n",
      "|           weekday|   7.495613256126136|     8.69738431044364|                82.18083636213385|\n",
      "|           weekend|   2.034206100524713|   1.0514926201658263|                63.89459804264542|\n",
      "+------------------+--------------------+---------------------+---------------------------------+\n",
      "\n",
      "CPU times: user 7.79 ms, sys: 5.28 ms, total: 13.1 ms\n",
      "Wall time: 5.71 s\n"
     ]
    },
    {
     "name": "stderr",
     "output_type": "stream",
     "text": [
      "\r",
      "                                                                                \r"
     ]
    }
   ],
   "source": [
    "%%time\n",
    "avg_agg(data_pq)"
   ]
  },
  {
   "cell_type": "code",
   "execution_count": 23,
   "id": "89885ef5",
   "metadata": {},
   "outputs": [
    {
     "name": "stderr",
     "output_type": "stream",
     "text": [
      "[Stage 6:=============================>                             (1 + 1) / 2]\r"
     ]
    },
    {
     "name": "stdout",
     "output_type": "stream",
     "text": [
      "+------------+-----+\n",
      "|country_code|count|\n",
      "+------------+-----+\n",
      "|          45|    1|\n",
      "|          40|    1|\n",
      "|         966|    2|\n",
      "|         421|    2|\n",
      "|         353|    3|\n",
      "+------------+-----+\n",
      "only showing top 5 rows\n",
      "\n",
      "CPU times: user 5.23 ms, sys: 4.69 ms, total: 9.92 ms\n",
      "Wall time: 1.83 s\n"
     ]
    },
    {
     "name": "stderr",
     "output_type": "stream",
     "text": [
      "\r",
      "                                                                                \r"
     ]
    }
   ],
   "source": [
    "%%time\n",
    "avg_count_sort(data_pq)"
   ]
  },
  {
   "cell_type": "code",
   "execution_count": 24,
   "id": "1300d7bd",
   "metadata": {},
   "outputs": [
    {
     "name": "stderr",
     "output_type": "stream",
     "text": [
      "[Stage 9:======================================================>  (19 + 1) / 20]\r"
     ]
    },
    {
     "name": "stdout",
     "output_type": "stream",
     "text": [
      "+------------------+--------------------+---------------------+---------------------------------+\n",
      "|weekend_or_weekday|Average_SMS_activity|Average_Call_activity|Average_Internet_traffic_activity|\n",
      "+------------------+--------------------+---------------------+---------------------------------+\n",
      "|           weekday|    7.49561325612599|    8.697384310443645|                  82.180836362139|\n",
      "|           weekend|  2.0342061005246967|   1.0514926201658503|               63.894598042644766|\n",
      "+------------------+--------------------+---------------------+---------------------------------+\n",
      "\n",
      "CPU times: user 273 ms, sys: 88 ms, total: 361 ms\n",
      "Wall time: 19min 21s\n"
     ]
    },
    {
     "name": "stderr",
     "output_type": "stream",
     "text": [
      "\r",
      "                                                                                \r"
     ]
    }
   ],
   "source": [
    "%%time\n",
    "avg_agg(data1) #we'll use data1 has it has the schema"
   ]
  },
  {
   "cell_type": "code",
   "execution_count": 25,
   "id": "80bd4d05",
   "metadata": {},
   "outputs": [
    {
     "name": "stderr",
     "output_type": "stream",
     "text": [
      "[Stage 12:=====================================================>  (19 + 1) / 20]\r"
     ]
    },
    {
     "name": "stdout",
     "output_type": "stream",
     "text": [
      "+------------+-----+\n",
      "|country_code|count|\n",
      "+------------+-----+\n",
      "|          40|    1|\n",
      "|          45|    1|\n",
      "|         966|    2|\n",
      "|         421|    2|\n",
      "|         353|    3|\n",
      "+------------+-----+\n",
      "only showing top 5 rows\n",
      "\n",
      "CPU times: user 178 ms, sys: 60.6 ms, total: 238 ms\n",
      "Wall time: 17min 39s\n"
     ]
    },
    {
     "name": "stderr",
     "output_type": "stream",
     "text": [
      "\r",
      "                                                                                \r"
     ]
    }
   ],
   "source": [
    "%%time\n",
    "avg_count_sort(data1)"
   ]
  },
  {
   "cell_type": "code",
   "execution_count": 31,
   "id": "a96ab503",
   "metadata": {},
   "outputs": [],
   "source": [
    "data_csv = data_csv.withColumnRenamed(\"_c0\", \"square_id\") \\\n",
    "       .withColumnRenamed(\"_c1\", \"timestamp\") \\\n",
    "       .withColumnRenamed(\"_c2\", \"country_code\") \\\n",
    "       .withColumnRenamed(\"_c3\", \"internet_traffic_activity\") \\\n",
    "       .withColumnRenamed(\"_c4\", \"hourly_timestamp\") \\\n",
    "       .withColumnRenamed(\"_c5\", \"SMS_activity\") \\\n",
    "       .withColumnRenamed(\"_c6\", \"call_activity\") \\\n",
    "       .withColumnRenamed(\"_c7\", \"weekend_or_weekday\")"
   ]
  },
  {
   "cell_type": "code",
   "execution_count": 32,
   "id": "e242518c",
   "metadata": {},
   "outputs": [
    {
     "name": "stderr",
     "output_type": "stream",
     "text": [
      "[Stage 16:===================================================>      (8 + 1) / 9]\r"
     ]
    },
    {
     "name": "stdout",
     "output_type": "stream",
     "text": [
      "+------------------+--------------------+---------------------+---------------------------------+\n",
      "|weekend_or_weekday|Average_SMS_activity|Average_Call_activity|Average_Internet_traffic_activity|\n",
      "+------------------+--------------------+---------------------+---------------------------------+\n",
      "|           weekday|   7.495613256126122|    8.697384310443459|                82.18083636213858|\n",
      "|           weekend|   2.034206100524699|   1.0514926201658463|                63.89459804264521|\n",
      "+------------------+--------------------+---------------------+---------------------------------+\n",
      "\n",
      "CPU times: user 58.4 ms, sys: 23.9 ms, total: 82.3 ms\n",
      "Wall time: 52.5 s\n"
     ]
    },
    {
     "name": "stderr",
     "output_type": "stream",
     "text": [
      "\r",
      "                                                                                \r"
     ]
    }
   ],
   "source": [
    "%%time\n",
    "avg_agg(data_csv)"
   ]
  },
  {
   "cell_type": "code",
   "execution_count": 34,
   "id": "58c1b16f",
   "metadata": {},
   "outputs": [
    {
     "name": "stderr",
     "output_type": "stream",
     "text": [
      "[Stage 22:===================================================>      (8 + 1) / 9]\r"
     ]
    },
    {
     "name": "stdout",
     "output_type": "stream",
     "text": [
      "+------------+-----+\n",
      "|country_code|count|\n",
      "+------------+-----+\n",
      "|          40|    1|\n",
      "|          45|    1|\n",
      "|         966|    2|\n",
      "|         421|    2|\n",
      "|         353|    3|\n",
      "+------------+-----+\n",
      "only showing top 5 rows\n",
      "\n",
      "CPU times: user 67.7 ms, sys: 41 ms, total: 109 ms\n",
      "Wall time: 41.3 s\n"
     ]
    },
    {
     "name": "stderr",
     "output_type": "stream",
     "text": [
      "\r",
      "                                                                                \r"
     ]
    }
   ],
   "source": [
    "%%time\n",
    "avg_count_sort(data_csv)"
   ]
  },
  {
   "cell_type": "markdown",
   "id": "6af97cc7",
   "metadata": {},
   "source": [
    "#### To Pandas & plotting"
   ]
  },
  {
   "cell_type": "code",
   "execution_count": 19,
   "id": "a8d727aa",
   "metadata": {},
   "outputs": [],
   "source": [
    "def plot(input_df):\n",
    "    input_df.groupBy(\"hourly_timestamp\").agg(avg(\"internet_traffic_activity\")).toPandas().plot(x=\"hourly_timestamp\", y=\"avg(internet_traffic_activity)\")\n",
    "    plt.xlabel(\"Hourly Timestamp\")\n",
    "    plt.title(\"Internet activity over time\")\n",
    "    plt.ylabel(\"Average Internet Traffic Activity\")\n",
    "    plt.show()"
   ]
  },
  {
   "cell_type": "code",
   "execution_count": 37,
   "id": "99fe63f0",
   "metadata": {},
   "outputs": [
    {
     "name": "stderr",
     "output_type": "stream",
     "text": [
      "                                                                                \r"
     ]
    },
    {
     "data": {
      "image/png": "[encoded data removed]",
      "text/plain": [
       "<Figure size 432x288 with 1 Axes>"
      ]
     },
     "metadata": {
      "needs_background": "light"
     },
     "output_type": "display_data"
    },
    {
     "name": "stdout",
     "output_type": "stream",
     "text": [
      "CPU times: user 693 ms, sys: 80.9 ms, total: 774 ms\n",
      "Wall time: 5.98 s\n"
     ]
    }
   ],
   "source": [
    "%%time\n",
    "plot(data_pq)"
   ]
  },
  {
   "cell_type": "code",
   "execution_count": 38,
   "id": "6fec8d6a",
   "metadata": {},
   "outputs": [
    {
     "name": "stderr",
     "output_type": "stream",
     "text": [
      "                                                                                \r"
     ]
    },
    {
     "data": {
      "image/png": "[encoded data removed]",
      "text/plain": [
       "<Figure size 432x288 with 1 Axes>"
      ]
     },
     "metadata": {
      "needs_background": "light"
     },
     "output_type": "display_data"
    },
    {
     "name": "stdout",
     "output_type": "stream",
     "text": [
      "CPU times: user 769 ms, sys: 75.2 ms, total: 845 ms\n",
      "Wall time: 50.1 s\n"
     ]
    }
   ],
   "source": [
    "%%time\n",
    "plot(data_csv)"
   ]
  },
  {
   "cell_type": "code",
   "execution_count": 20,
   "id": "b77a1e86",
   "metadata": {},
   "outputs": [
    {
     "name": "stderr",
     "output_type": "stream",
     "text": [
      "                                                                                \r"
     ]
    },
    {
     "data": {
      "image/png": "[encoded data removed]",
      "text/plain": [
       "<Figure size 432x288 with 1 Axes>"
      ]
     },
     "metadata": {
      "needs_background": "light"
     },
     "output_type": "display_data"
    },
    {
     "name": "stdout",
     "output_type": "stream",
     "text": [
      "CPU times: user 538 ms, sys: 159 ms, total: 697 ms\n",
      "Wall time: 17min 23s\n"
     ]
    }
   ],
   "source": [
    "%%time\n",
    "plot(data1)"
   ]
  },
  {
   "cell_type": "code",
   "execution_count": null,
   "id": "118d7ad2",
   "metadata": {},
   "outputs": [],
   "source": [
    "# Possible TODOs\n",
    "# configure spark to have more workers and compare again\n",
    "# save data on hbase or other db and compare write time and justify"
   ]
  },
  {
   "cell_type": "markdown",
   "id": "0ec78b29",
   "metadata": {},
   "source": [
    "### To be moved to other file"
   ]
  },
  {
   "cell_type": "markdown",
   "id": "3e73eaf0",
   "metadata": {},
   "source": [
    "To measure the performance of the autoencoder model, we can use the reconstruction error as a metric. The reconstruction error is typically measured as the mean squared error (MSE) between the original input and its reconstruction. A lower reconstruction error indicates better performance.\n",
    "\n",
    "To evaluate the model’s performance, we can calculate the MSE between the original input data X_train and its corresponding reconstructed data reconstructed_data"
   ]
  },
  {
   "cell_type": "code",
   "execution_count": null,
   "id": "f1064251",
   "metadata": {},
   "outputs": [],
   "source": [
    "mse = tf.keras.losses.mean_squared_error(X_train, reconstructed_data)"
   ]
  },
  {
   "cell_type": "code",
   "execution_count": null,
   "id": "1f63c4a5",
   "metadata": {},
   "outputs": [],
   "source": [
    "# Plotting anomalies versus normal items\n",
    "plt.scatter(X_train['Timestamp'], X_train['SMS_in_activity'], label='Normal')\n",
    "plt.scatter(anomalies['Timestamp'], anomalies['SMS_in_activity'], color='red', label='Anomaly')\n",
    "plt.xlabel('Timestamp')\n",
    "plt.ylabel('SMS-in Activity')\n",
    "plt.title('Anomalies Detected')\n",
    "plt.legend()\n",
    "plt.show()"
   ]
  },
  {
   "cell_type": "code",
   "execution_count": null,
   "id": "3112633a",
   "metadata": {},
   "outputs": [],
   "source": [
    "# Stop the Spark session\n",
    "spark.stop()"
   ]
  }
 ],
 "metadata": {
  "kernelspec": {
   "display_name": "Python 3 (ipykernel)",
   "language": "python",
   "name": "python3"
  },
  "language_info": {
   "codemirror_mode": {
    "name": "ipython",
    "version": 3
   },
   "file_extension": ".py",
   "mimetype": "text/x-python",
   "name": "python",
   "nbconvert_exporter": "python",
   "pygments_lexer": "ipython3",
   "version": "3.10.12"
  }
 },
 "nbformat": 4,
 "nbformat_minor": 5
}
